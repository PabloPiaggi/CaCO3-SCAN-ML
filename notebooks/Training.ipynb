{
 "cells": [
  {
   "cell_type": "code",
   "execution_count": 1,
   "id": "1edab66a",
   "metadata": {},
   "outputs": [],
   "source": [
    "import numpy as np\n",
    "from scipy.optimize import curve_fit\n",
    "import matplotlib.pyplot as plt"
   ]
  },
  {
   "cell_type": "code",
   "execution_count": 2,
   "id": "eef9e667",
   "metadata": {},
   "outputs": [],
   "source": [
    "font = {'family' : 'serif',\n",
    "'serif'   : 'palatino',\n",
    "'style'   : 'normal',\n",
    "'variant'   : 'normal',\n",
    "'stretch'   : 'normal',\n",
    "'weight'   : 'normal',\n",
    "'size'   : 30}\n",
    "plt.rc('font', **font)\n",
    "plt.rc('text', usetex=True)\n",
    "colors = plt.rcParams['axes.prop_cycle'].by_key()['color']"
   ]
  },
  {
   "cell_type": "code",
   "execution_count": 3,
   "id": "86264d69",
   "metadata": {},
   "outputs": [],
   "source": [
    "plt.rcParams[\"figure.figsize\"] = (3.5,2.5)\n",
    "font = {'family' : 'serif',\n",
    "'serif'   : 'palatino',\n",
    "'style'   : 'normal',\n",
    "'variant'   : 'normal',\n",
    "'stretch'   : 'normal',\n",
    "'weight'   : 'normal',\n",
    "'size'   : 9}\n",
    "plt.rc('font', **font)"
   ]
  },
  {
   "cell_type": "code",
   "execution_count": 4,
   "id": "0bbbef59",
   "metadata": {},
   "outputs": [],
   "source": [
    "def func(x, mu,sigma):\n",
    "    return (1.0/(sigma*np.sqrt(2*np.pi))) * np.exp(-0.5*np.power((x-mu)/sigma,2))\n",
    "\n",
    "def func2(x, x0, gamma):\n",
    "    return (1.0/np.pi)*gamma/(np.power(x-x0,2)+gamma*gamma)"
   ]
  },
  {
   "cell_type": "code",
   "execution_count": 5,
   "id": "72476ca9",
   "metadata": {},
   "outputs": [],
   "source": [
    "energy_model_concat = np.load(\"energy_model.npy\")\n",
    "energy_dft_concat = np.load(\"energy_dft.npy\")\n",
    "force_model_concat = np.load(\"force_model.npy\")\n",
    "force_dft_concat = np.load(\"force_dft.npy\")"
   ]
  },
  {
   "cell_type": "code",
   "execution_count": 8,
   "id": "2fcf2cc0",
   "metadata": {},
   "outputs": [
    {
     "name": "stdout",
     "output_type": "stream",
     "text": [
      "0.41208529878132505\n"
     ]
    }
   ],
   "source": [
    "print(np.sqrt(np.mean(np.power(energy_model_concat-energy_dft_concat,2))))"
   ]
  },
  {
   "cell_type": "code",
   "execution_count": 9,
   "id": "2bde64e7",
   "metadata": {},
   "outputs": [
    {
     "name": "stdout",
     "output_type": "stream",
     "text": [
      "101.58310480834336\n"
     ]
    }
   ],
   "source": [
    "print(np.sqrt(np.mean(np.power(force_model_concat-force_dft_concat,2))))"
   ]
  },
  {
   "cell_type": "code",
   "execution_count": 7,
   "id": "ae281c60",
   "metadata": {},
   "outputs": [
    {
     "name": "stdout",
     "output_type": "stream",
     "text": [
      "Energy fit parameters:  [-0.001126    0.37155493] [0.00320638 0.002618  ]\n",
      "Forces fit parameters:  [0.00012898 0.04613018] [0.00053856 0.00053888]\n"
     ]
    },
    {
     "data": {
      "image/png": "[encoded data removed]",
      "text/plain": [
       "<Figure size 252x216 with 4 Axes>"
      ]
     },
     "metadata": {
      "needs_background": "light"
     },
     "output_type": "display_data"
    },
    {
     "data": {
      "text/plain": [
       "<Figure size 252x216 with 0 Axes>"
      ]
     },
     "metadata": {},
     "output_type": "display_data"
    }
   ],
   "source": [
    "plt.rcParams[\"figure.figsize\"] = (3.5,3)\n",
    "font = {'family' : 'serif',\n",
    "'serif'   : 'palatino',\n",
    "'style'   : 'normal',\n",
    "'variant'   : 'normal',\n",
    "'stretch'   : 'normal',\n",
    "'weight'   : 'normal',\n",
    "'size'   : 11}\n",
    "plt.rc('font', **font)\n",
    "\n",
    "f, ax = plt.subplots(2, 2)\n",
    "plt.tight_layout()\n",
    "\n",
    "ax[0,0].set_xlabel(r\"$E_\\mathrm{ML}-E_\\mathrm{DFT}$ (meV/atom)\",labelpad=1.25)\n",
    "ax[0,0].set_ylabel(\"Prob. density\",labelpad=1.25)\n",
    "ax[0,0].hist(energy_model_concat-energy_dft_concat,density=True, bins=50, range=(-3,3),alpha=0.5)\n",
    "hist, bin_edges = np.histogram(energy_model_concat-energy_dft_concat, bins=50, range=(-3,3),density=True)\n",
    "halfbin = (bin_edges[1:]+bin_edges[:-1])/2.0\n",
    "popt, pcov = curve_fit(func, halfbin, hist, p0=(0,100))\n",
    "x=np.linspace(-3,3,100)\n",
    "#ax[0,0].set_xlim([-3,3])\n",
    "ax[0,0].plot(x,func(x,*popt),'--',color=colors[0])\n",
    "print(\"Energy fit parameters: \", popt,np.sqrt(np.diag(pcov)))\n",
    "\n",
    "ax[0,1].set_xlabel(r\"$f_\\mathrm{ML}-f_\\mathrm{DFT}$ (eV/\\AA)\",labelpad=1.25)\n",
    "ax[0,1].set_ylabel(\"Prob. density\",labelpad=1.25)\n",
    "ax[0,1].hist((force_model_concat-force_dft_concat)/1000,density=True, bins=100, range=(-0.400,0.400),alpha=0.5)\n",
    "hist, bin_edges = np.histogram((force_model_concat-force_dft_concat)/1000, bins=100, range=(-0.400,0.400),density=True)\n",
    "halfbin = (bin_edges[1:]+bin_edges[:-1])/2.0\n",
    "popt, pcov = curve_fit(func2, halfbin, hist, p0=(0,100))\n",
    "#ax[0,1].set_xlim([-0.4,0.4])\n",
    "#ax[0,1].set_xticks([-0.3,0,0.3])\n",
    "#x=np.linspace(-0.400,0.400,100)\n",
    "#ax[0,1].plot(x,func2(x,*popt),'--',color=colors[0])\n",
    "print(\"Forces fit parameters: \", popt,np.sqrt(np.diag(pcov)))\n",
    "\n",
    "#mean=1000*np.mean(energy_dft_concat)+10\n",
    "#meanWater=np.copy(mean)\n",
    "ax[1,0].set_xlabel(r\"$E_\\mathrm{DFT}$ (eV/atom)\",labelpad=1.25)\n",
    "ax[1,0].set_ylabel(r\"$E_\\mathrm{ML}$ (eV/atom)\",labelpad=1.25)\n",
    "ax[1,0].scatter(energy_dft_concat/1000,energy_model_concat/1000,s=1)\n",
    "#limsup=50\n",
    "#liminf=-50\n",
    "#ax[1,0].set_xlim([liminf,limsup])\n",
    "#ax[1,0].set_ylim([liminf,limsup])\n",
    "#ax[1,0].plot([liminf,limsup],[liminf,limsup],'--',linewidth=0.5,color='black',zorder=0,alpha=0.75)\n",
    "\n",
    "fig = plt.figure()\n",
    "ax[1,1].set_xlabel(r\"$f_\\mathrm{DFT}$ (eV/\\AA)\",labelpad=1.25)\n",
    "ax[1,1].set_ylabel(r\"$f_\\mathrm{ML}$ (eV/\\AA)\",labelpad=1.25)\n",
    "ax[1,1].scatter(force_dft_concat/1000,force_model_concat/1000,s=0.1)\n",
    "#limsup=8\n",
    "#liminf=-8\n",
    "#ax[1,1].set_xlim([liminf,limsup])\n",
    "#ax[1,1].set_ylim([liminf,limsup])\n",
    "#ax[1,1].plot([liminf,limsup],[liminf,limsup],'--',linewidth=0.5,color='black',zorder=0,alpha=0.75)\n",
    "\n",
    "\n",
    "f.tight_layout()\n",
    "\n",
    "#f.savefig(\"plot_water.png\",dpi=300,bbox_inches='tight')\n",
    "#f.savefig(\"plot_water.pdf\",bbox_inches='tight')\n",
    "\n",
    "plt.show()\n"
   ]
  },
  {
   "cell_type": "code",
   "execution_count": 9,
   "id": "e0903350",
   "metadata": {},
   "outputs": [
    {
     "data": {
      "image/png": "[encoded data removed]",
      "text/plain": [
       "<Figure size 144x252 with 2 Axes>"
      ]
     },
     "metadata": {
      "needs_background": "light"
     },
     "output_type": "display_data"
    },
    {
     "data": {
      "text/plain": [
       "<Figure size 144x252 with 0 Axes>"
      ]
     },
     "metadata": {},
     "output_type": "display_data"
    }
   ],
   "source": [
    "plt.rcParams[\"figure.figsize\"] = (2,3.5)\n",
    "font = {'family' : 'serif',\n",
    "'serif'   : 'palatino',\n",
    "'style'   : 'normal',\n",
    "'variant'   : 'normal',\n",
    "'stretch'   : 'normal',\n",
    "'weight'   : 'normal',\n",
    "'size'   : 9}\n",
    "plt.rc('font', **font)\n",
    "\n",
    "f, ax = plt.subplots(2)\n",
    "plt.tight_layout()\n",
    "\n",
    "\n",
    "ax[0].set_xlabel(r\"$E_\\mathrm{DFT}$ (eV/atom)\",labelpad=1.25)\n",
    "ax[0].set_ylabel(r\"$E_\\mathrm{ML}$ (eV/atom)\",labelpad=1.25)\n",
    "ax[0].scatter(energy_dft_concat/1000,energy_model_concat/1000,s=1)\n",
    "limsup=np.amax(energy_dft_concat)/1000\n",
    "liminf=np.amin(energy_dft_concat)/1000\n",
    "ax[0].set_xlim([liminf,limsup])\n",
    "ax[0].set_ylim([liminf,limsup])\n",
    "ax[0].plot([liminf,limsup],[liminf,limsup],'--',linewidth=0.5,color='black',zorder=0,alpha=0.75)\n",
    "\n",
    "fig = plt.figure()\n",
    "ax[1].set_xlabel(r\"$f_\\mathrm{DFT}$ (eV/\\AA)\",labelpad=1.25)\n",
    "ax[1].set_ylabel(r\"$f_\\mathrm{ML}$ (eV/\\AA)\",labelpad=1.25)\n",
    "ax[1].scatter(force_dft_concat/1000,force_model_concat/1000,s=0.1)\n",
    "limsup=np.amax(force_dft_concat)/1000\n",
    "liminf=np.amin(force_dft_concat)/1000\n",
    "ax[1].set_xlim([liminf,limsup])\n",
    "ax[1].set_ylim([liminf,limsup])\n",
    "ax[1].plot([liminf,limsup],[liminf,limsup],'--',linewidth=0.5,color='black',zorder=0,alpha=0.75)\n",
    "\n",
    "\n",
    "f.tight_layout()\n",
    "\n",
    "#f.savefig(\"plot_water.png\",dpi=300,bbox_inches='tight')\n",
    "#f.savefig(\"plot_water.pdf\",bbox_inches='tight')\n",
    "\n",
    "plt.show()\n"
   ]
  },
  {
   "cell_type": "code",
   "execution_count": 41,
   "id": "b6c71738",
   "metadata": {},
   "outputs": [],
   "source": [
    "\n",
    "def add_subplot_axes(ax,rect,axisbg='w'):\n",
    "    fig = plt.gcf()\n",
    "    box = ax.get_position()\n",
    "    width = box.width\n",
    "    height = box.height\n",
    "    inax_position  = ax.transAxes.transform(rect[0:2])\n",
    "    transFigure = fig.transFigure.inverted()\n",
    "    infig_position = transFigure.transform(inax_position)    \n",
    "    x = infig_position[0]\n",
    "    y = infig_position[1]\n",
    "    width *= rect[2]\n",
    "    height *= rect[3]  # <= Typo was here\n",
    "    #subax = fig.add_axes([x,y,width,height],facecolor=facecolor)  # matplotlib 2.0+\n",
    "    subax = fig.add_axes([x,y,width,height]) #,axisbg=axisbg)\n",
    "    #x_labelsize = subax.get_xticklabels()[0].get_size()\n",
    "    #y_labelsize = subax.get_yticklabels()[0].get_size()\n",
    "    #x_labelsize *= rect[2]**0.5\n",
    "    #y_labelsize *= rect[3]**0.5\n",
    "    #subax.xaxis.set_tick_params(labelsize=x_labelsize)\n",
    "    #subax.yaxis.set_tick_params(labelsize=y_labelsize)\n",
    "    return subax"
   ]
  },
  {
   "cell_type": "code",
   "execution_count": 73,
   "id": "de1a1cae",
   "metadata": {},
   "outputs": [
    {
     "name": "stderr",
     "output_type": "stream",
     "text": [
      "<ipython-input-73-b040ef43db31>:68: UserWarning: This figure includes Axes that are not compatible with tight_layout, so results might be incorrect.\n",
      "  f.tight_layout()\n"
     ]
    },
    {
     "data": {
      "image/png": "[encoded data removed]",
      "text/plain": [
       "<Figure size 144x252 with 4 Axes>"
      ]
     },
     "metadata": {
      "needs_background": "light"
     },
     "output_type": "display_data"
    }
   ],
   "source": [
    "plt.rcParams[\"figure.figsize\"] = (2,3.5)\n",
    "font = {'family' : 'serif',\n",
    "'serif'   : 'palatino',\n",
    "'style'   : 'normal',\n",
    "'variant'   : 'normal',\n",
    "'stretch'   : 'normal',\n",
    "'weight'   : 'normal',\n",
    "'size'   : 9}\n",
    "plt.rc('font', **font)\n",
    "\n",
    "f, ax = plt.subplots(2)\n",
    "plt.tight_layout()\n",
    "mycolor=\"#F4173B\"\n",
    "\n",
    "ax[0].set_xlabel(r\"$E_\\mathrm{DFT}$ (eV/atom)\",labelpad=1.25)\n",
    "ax[0].set_ylabel(r\"$E_\\mathrm{ML}$ (eV/atom)\",labelpad=1.25)\n",
    "ax[0].scatter(energy_dft_concat/1000,energy_model_concat/1000,s=1,color=mycolor)\n",
    "limsup=np.amax(energy_dft_concat)/1000\n",
    "liminf=np.amin(energy_dft_concat)/1000\n",
    "ax[0].set_xlim([liminf,limsup])\n",
    "ax[0].set_ylim([liminf,limsup])\n",
    "ax[0].plot([liminf,limsup],[liminf,limsup],'--',linewidth=0.5,color='black',zorder=0,alpha=0.75)\n",
    "\n",
    "\n",
    "rect = [0.69,0.3,0.325,0.325]\n",
    "ax1 = add_subplot_axes(ax[0],rect)\n",
    "ax1.set_yticks([])\n",
    "ax1.set_xticks([-2,2])\n",
    "ax1.set_xticklabels([\"-2\",\"2\"],fontsize=7)\n",
    "#ax1.tick_params(axis='x', which='major', pad=-0.1)\n",
    "ax1.set_xlim([-2,2])\n",
    "ax1.set_xlabel(r\"$\\epsilon_E$\",fontsize=7,labelpad=-6)\n",
    "ax1.set_ylabel(r\"$P$\",fontsize=7,labelpad=-1)\n",
    "ax1.hist(energy_model_concat-energy_dft_concat,density=True, bins=100, range=(-3,3),alpha=0.5,color=mycolor)\n",
    "hist, bin_edges = np.histogram(energy_model_concat-energy_dft_concat, bins=100, range=(-3,3),density=True)\n",
    "halfbin = (bin_edges[1:]+bin_edges[:-1])/2.0\n",
    "popt, pcov = curve_fit(func, halfbin, hist, p0=(0,100))\n",
    "x=np.linspace(-3,3,100)\n",
    "#ax[0,0].set_xlim([-3,3])\n",
    "ax1.plot(x,func(x,*popt),'--',color=mycolor)\n",
    "\n",
    "\n",
    "\n",
    "ax[1].set_xlabel(r\"$f_\\mathrm{DFT}$ (eV/\\AA)\",labelpad=1.25)\n",
    "ax[1].set_ylabel(r\"$f_\\mathrm{ML}$ (eV/\\AA)\",labelpad=1.25)\n",
    "ax[1].scatter(force_dft_concat[::10]/1000,force_model_concat[::10]/1000,s=0.1,color=mycolor)\n",
    "limsup=np.amax(force_dft_concat[::10])/1000\n",
    "liminf=np.amin(force_dft_concat[::10])/1000\n",
    "ax[1].set_xlim([liminf,limsup])\n",
    "ax[1].set_ylim([liminf,limsup])\n",
    "ax[1].plot([liminf,limsup],[liminf,limsup],'--',linewidth=0.5,color='black',zorder=0,alpha=0.75)\n",
    "\n",
    "rect = [0.69,0.3,0.325,0.325]\n",
    "ax2 = add_subplot_axes(ax[1],rect)\n",
    "ax2.set_yticks([])\n",
    "ax2.set_xticks([-400,400])\n",
    "ax2.set_xticklabels([\"-400\",\"400\"],fontsize=7)\n",
    "ax2.set_xlim([-400,400])\n",
    "ax2.set_xlabel(r\"$\\epsilon_f$\",fontsize=7,labelpad=-6)\n",
    "ax2.set_ylabel(r\"$P$\",fontsize=7,labelpad=-1)\n",
    "ax2.hist(force_model_concat[::10]-force_dft_concat[::10],density=True, bins=100, range=(-400,400),alpha=0.5,color=mycolor)\n",
    "hist, bin_edges = np.histogram(force_model_concat[::10]-force_dft_concat[::10], bins=100, range=(-400,400),density=True)\n",
    "halfbin = (bin_edges[1:]+bin_edges[:-1])/2.0\n",
    "popt, pcov = curve_fit(func2, halfbin, hist, p0=(0,100))\n",
    "x=np.linspace(-400,400,100)\n",
    "ax2.plot(x,func2(x,*popt),'--',color=mycolor)\n",
    "\n",
    "f.tight_layout()\n",
    "\n",
    "f.savefig(\"plot_errors.png\",dpi=300,bbox_inches='tight')\n",
    "#f.savefig(\"plot_errors.pdf\",bbox_inches='tight')\n",
    "\n",
    "plt.show()\n"
   ]
  },
  {
   "cell_type": "code",
   "execution_count": 71,
   "id": "655c6f4f",
   "metadata": {},
   "outputs": [
    {
     "name": "stderr",
     "output_type": "stream",
     "text": [
      "<ipython-input-71-7646d74f6ac4>:68: UserWarning: This figure includes Axes that are not compatible with tight_layout, so results might be incorrect.\n",
      "  f.tight_layout()\n"
     ]
    },
    {
     "data": {
      "image/png": "[encoded data removed]",
      "text/plain": [
       "<Figure size 144x252 with 4 Axes>"
      ]
     },
     "metadata": {
      "needs_background": "light"
     },
     "output_type": "display_data"
    }
   ],
   "source": [
    "plt.rcParams[\"figure.figsize\"] = (2,3.5)\n",
    "font = {'family' : 'serif',\n",
    "'serif'   : 'palatino',\n",
    "'style'   : 'normal',\n",
    "'variant'   : 'normal',\n",
    "'stretch'   : 'normal',\n",
    "'weight'   : 'normal',\n",
    "'size'   : 9}\n",
    "plt.rc('font', **font)\n",
    "\n",
    "f, ax = plt.subplots(2)\n",
    "plt.tight_layout()\n",
    "mycolor=\"#F4173B\"\n",
    "\n",
    "ax[0].set_xlabel(r\"$E_\\mathrm{DFT}$ (eV/atom)\",labelpad=1.25)\n",
    "ax[0].set_ylabel(r\"$E_\\mathrm{ML}$ (eV/atom)\",labelpad=1.25)\n",
    "#ax[0].scatter(energy_dft_concat/1000,energy_model_concat/1000,s=1,color=mycolor)\n",
    "limsup=np.amax(energy_dft_concat)/1000\n",
    "liminf=np.amin(energy_dft_concat)/1000\n",
    "ax[0].set_xlim([liminf,limsup])\n",
    "ax[0].set_ylim([liminf,limsup])\n",
    "ax[0].plot([liminf,limsup],[liminf,limsup],'--',linewidth=0.5,color='black',zorder=0,alpha=0.75)\n",
    "\n",
    "\n",
    "rect = [0.69,0.3,0.325,0.325]\n",
    "ax1 = add_subplot_axes(ax[0],rect)\n",
    "ax1.set_yticks([])\n",
    "ax1.set_xticks([-2,2])\n",
    "ax1.set_xticklabels([\"-2\",\"2\"],fontsize=7)\n",
    "#ax1.tick_params(axis='x', which='major', pad=-0.1)\n",
    "ax1.set_xlim([-2,2])\n",
    "ax1.set_xlabel(r\"$\\epsilon_E$\",fontsize=7,labelpad=-6)\n",
    "ax1.set_ylabel(r\"$P$\",fontsize=7,labelpad=-1)\n",
    "ax1.hist(energy_model_concat-energy_dft_concat,density=True, bins=100, range=(-3,3),alpha=0.5,color=mycolor)\n",
    "hist, bin_edges = np.histogram(energy_model_concat-energy_dft_concat, bins=100, range=(-3,3),density=True)\n",
    "halfbin = (bin_edges[1:]+bin_edges[:-1])/2.0\n",
    "popt, pcov = curve_fit(func, halfbin, hist, p0=(0,100))\n",
    "x=np.linspace(-3,3,100)\n",
    "#ax[0,0].set_xlim([-3,3])\n",
    "ax1.plot(x,func(x,*popt),'--',color=mycolor)\n",
    "\n",
    "\n",
    "\n",
    "ax[1].set_xlabel(r\"$f_\\mathrm{DFT}$ (eV/\\AA)\",labelpad=1.25)\n",
    "ax[1].set_ylabel(r\"$f_\\mathrm{ML}$ (eV/\\AA)\",labelpad=1.25)\n",
    "#ax[1].scatter(force_dft_concat/1000,force_model_concat/1000,s=0.1,color=mycolor)\n",
    "limsup=np.amax(force_dft_concat[::10])/1000\n",
    "liminf=np.amin(force_dft_concat[::10])/1000\n",
    "ax[1].set_xlim([liminf,limsup])\n",
    "ax[1].set_ylim([liminf,limsup])\n",
    "ax[1].plot([liminf,limsup],[liminf,limsup],'--',linewidth=0.5,color='black',zorder=0,alpha=0.75)\n",
    "\n",
    "rect = [0.69,0.3,0.325,0.325]\n",
    "ax2 = add_subplot_axes(ax[1],rect)\n",
    "ax2.set_yticks([])\n",
    "ax2.set_xticks([-400,400])\n",
    "ax2.set_xticklabels([\"-400\",\"400\"],fontsize=7)\n",
    "ax2.set_xlim([-400,400])\n",
    "ax2.set_xlabel(r\"$\\epsilon_f$\",fontsize=7,labelpad=-6)\n",
    "ax2.set_ylabel(r\"$P$\",fontsize=7,labelpad=-1)\n",
    "ax2.hist(force_model_concat[::10]-force_dft_concat[::10],density=True, bins=100, range=(-400,400),alpha=0.5,color=mycolor)\n",
    "hist, bin_edges = np.histogram(force_model_concat[::10]-force_dft_concat[::10], bins=100, range=(-400,400),density=True)\n",
    "halfbin = (bin_edges[1:]+bin_edges[:-1])/2.0\n",
    "popt, pcov = curve_fit(func2, halfbin, hist, p0=(0,100))\n",
    "x=np.linspace(-400,400,100)\n",
    "ax2.plot(x,func2(x,*popt),'--',color=mycolor)\n",
    "\n",
    "f.tight_layout()\n",
    "\n",
    "#f.savefig(\"plot_errors.png\",dpi=300,bbox_inches='tight')\n",
    "f.savefig(\"plot_errors.pdf\",bbox_inches='tight')\n",
    "\n",
    "plt.show()\n"
   ]
  },
  {
   "cell_type": "code",
   "execution_count": 13,
   "id": "bf4c0107",
   "metadata": {},
   "outputs": [
    {
     "name": "stdout",
     "output_type": "stream",
     "text": [
      "system: data-iteration-0/feldspar/bulk N frames: 302 N atoms: 52 RMSE energy: 1.0515591315423682 RMSE forces: 93.73851211411318\n",
      "system: data-iteration-0/feldspar/001-2 N frames: 28 N atoms: 128 RMSE energy: 2.2513963575638614 RMSE forces: 136.39035671317518\n",
      "system: data-iteration-0/feldspar/010-2 N frames: 20 N atoms: 64 RMSE energy: 1.9391406840652154 RMSE forces: 167.07409481728158\n",
      "system: data-iteration-0/feldspar/100-3/set2 N frames: 300 N atoms: 70 RMSE energy: 0.8800318301871938 RMSE forces: 116.77508000762785\n",
      "All: RMSE energy: 1.097838904740986 RMSE forces: 112.5705205846092\n"
     ]
    }
   ],
   "source": [
    "folders=np.array([\"data-iteration-0/feldspar/bulk\",\n",
    "                \"data-iteration-0/feldspar/001-2\",\n",
    "                \"data-iteration-0/feldspar/010-2\",\n",
    "                \"data-iteration-0/feldspar/100-3/set2\"\n",
    "                 ])\n",
    "\n",
    "initialized=False\n",
    "\n",
    "for folder in folders:\n",
    "    system = dpdata.LabeledSystem(path + folder, fmt = 'deepmd/raw')\n",
    "    e, f, v = dp.eval(system['coords'], system['cells'], system['atom_types'])\n",
    "    energy_model = e.reshape([-1])\n",
    "    shift=np.mean(energy_model)\n",
    "    energy_model -= shift\n",
    "    force_model = f.reshape([-1])\n",
    "    energy_dft=np.genfromtxt(path + folder + \"/energy.raw\")\n",
    "    energy_dft -= shift\n",
    "    force_dft=np.genfromtxt(path + folder + \"/force.raw\").reshape([-1])\n",
    "    frames=system['coords'].shape[0]\n",
    "    number_of_molecules=system['atom_types'].shape[0]\n",
    "    if initialized:\n",
    "        energy_model_concat = np.concatenate((energy_model_concat,energy_model/number_of_molecules),axis=0)\n",
    "        energy_dft_concat = np.concatenate((energy_dft_concat,energy_dft/number_of_molecules),axis=0)\n",
    "        force_model_concat = np.concatenate((force_model_concat,force_model),axis=0)\n",
    "        force_dft_concat = np.concatenate((force_dft_concat,force_dft),axis=0)\n",
    "    else:\n",
    "        energy_model_concat = energy_model/number_of_molecules\n",
    "        energy_dft_concat = energy_dft/number_of_molecules\n",
    "        force_model_concat = np.copy(force_model)\n",
    "        force_dft_concat = np.copy(force_dft)\n",
    "        initialized=True\n",
    "    filename = \"energy-\" + folder.replace(\"/\",\"-\") + \".png\"\n",
    "    #plt.close()\n",
    "    rmserror_e=np.sqrt(np.mean(np.power(1000*(energy_model-energy_dft)/number_of_molecules,2)))\n",
    "    rmserror_f=np.sqrt(np.mean(np.power(1000*(force_model-force_dft),2)))\n",
    "    print(\"system:\",folder,\"N frames:\",frames,\"N atoms:\",number_of_molecules,\"RMSE energy:\",rmserror_e,\"RMSE forces:\",rmserror_f)\n",
    "\n",
    "rmserror_e=np.sqrt(np.mean(np.power(1000*(energy_model_concat-energy_dft_concat),2)))\n",
    "rmserror_f=np.sqrt(np.mean(np.power(1000*(force_model_concat-force_dft_concat),2)))\n",
    "print(\"All: RMSE energy:\",rmserror_e,\"RMSE forces:\",rmserror_f)"
   ]
  },
  {
   "cell_type": "code",
   "execution_count": 16,
   "id": "91a8e0cb",
   "metadata": {},
   "outputs": [
    {
     "name": "stdout",
     "output_type": "stream",
     "text": [
      "Energy fit parameters:  [0.1806751  0.81588149] [0.03110364 0.02539602]\n",
      "Forces fit parameters:  [-0.00036775  0.06006474] [0.00109051 0.00109188]\n"
     ]
    },
    {
     "data": {
      "image/png": "[encoded data removed]",
      "text/plain": [
       "<Figure size 252x216 with 4 Axes>"
      ]
     },
     "metadata": {
      "needs_background": "light"
     },
     "output_type": "display_data"
    },
    {
     "data": {
      "text/plain": [
       "<Figure size 252x216 with 0 Axes>"
      ]
     },
     "metadata": {},
     "output_type": "display_data"
    }
   ],
   "source": [
    "plt.rcParams[\"figure.figsize\"] = (3.5,3)\n",
    "font = {'family' : 'serif',\n",
    "'serif'   : 'palatino',\n",
    "'style'   : 'normal',\n",
    "'variant'   : 'normal',\n",
    "'stretch'   : 'normal',\n",
    "'weight'   : 'normal',\n",
    "'size'   : 11}\n",
    "plt.rc('font', **font)\n",
    "\n",
    "f, ax = plt.subplots(2, 2)\n",
    "plt.tight_layout()\n",
    "\n",
    "ax[0,0].set_xlabel(r\"$E_\\mathrm{ML}-E_\\mathrm{DFT}$ (meV/atom)\",labelpad=1.25)\n",
    "ax[0,0].set_ylabel(\"Prob. density\",labelpad=1.25)\n",
    "ax[0,0].hist(1000*(energy_model_concat-energy_dft_concat),density=True, bins=50, range=(-4,4),alpha=0.5,color=colors[1])\n",
    "hist, bin_edges = np.histogram(1000*(energy_model_concat-energy_dft_concat), bins=50, range=(-4,4),density=True)\n",
    "halfbin = (bin_edges[1:]+bin_edges[:-1])/2.0\n",
    "popt, pcov = curve_fit(func, halfbin, hist, p0=(0,100))\n",
    "x=np.linspace(-4,4,100)\n",
    "ax[0,0].set_xlim([-4,4])\n",
    "ax[0,0].set_xticks([-3,0,3])\n",
    "ax[0,0].plot(x,func(x,*popt),'--',color=colors[1])\n",
    "print(\"Energy fit parameters: \", popt,np.sqrt(np.diag(pcov)))\n",
    "\n",
    "ax[0,1].set_xlabel(r\"$f_\\mathrm{ML}-f_\\mathrm{DFT}$ (eV/\\AA)\",labelpad=1.25)\n",
    "ax[0,1].set_ylabel(\"Prob. density\",labelpad=1.25)\n",
    "ax[0,1].hist(force_model_concat-force_dft_concat,density=True, bins=100, range=(-0.500,0.500),alpha=0.5,color=colors[1])\n",
    "hist, bin_edges = np.histogram(force_model_concat-force_dft_concat, bins=100, range=(-0.400,0.400),density=True)\n",
    "halfbin = (bin_edges[1:]+bin_edges[:-1])/2.0\n",
    "popt, pcov = curve_fit(func2, halfbin, hist, p0=(0,100))\n",
    "ax[0,1].set_xlim([-0.5,0.5])\n",
    "x=np.linspace(-0.500,0.500,100)\n",
    "ax[0,1].plot(x,func2(x,*popt),'--',color=colors[1])\n",
    "print(\"Forces fit parameters: \", popt,np.sqrt(np.diag(pcov)))\n",
    "\n",
    "shift=-300\n",
    "ax[1,0].set_xlabel(r\"$E_\\mathrm{DFT}$ (meV/atom)\",labelpad=1.25)\n",
    "ax[1,0].set_ylabel(r\"$E_\\mathrm{ML}$ (meV/atom)\",labelpad=1.25)\n",
    "ax[1,0].scatter(1000*energy_dft_concat+shift,1000*energy_model_concat+shift,s=1,color=colors[1])\n",
    "limsup=800\n",
    "liminf=-800\n",
    "ax[1,0].set_xlim([liminf,limsup])\n",
    "ax[1,0].set_ylim([liminf,limsup])\n",
    "ax[1,0].plot([liminf,limsup],[liminf,limsup],'--',linewidth=0.5,color='black',zorder=0,alpha=0.75)\n",
    "\n",
    "fig = plt.figure()\n",
    "ax[1,1].set_xlabel(r\"$f_\\mathrm{DFT}$ (eV/\\AA)\",labelpad=1.25)\n",
    "ax[1,1].set_ylabel(r\"$f_\\mathrm{ML}$ (eV/\\AA)\",labelpad=1.25)\n",
    "ax[1,1].scatter(force_dft_concat,force_model_concat,s=0.1,color=colors[1])\n",
    "limsup=100\n",
    "liminf=-100\n",
    "ax[1,1].set_xlim([liminf,limsup])\n",
    "ax[1,1].set_ylim([liminf,limsup])\n",
    "ax[1,1].plot([liminf,limsup],[liminf,limsup],'--',linewidth=0.5,color='black',zorder=0,alpha=0.75)\n",
    "\n",
    "\n",
    "f.tight_layout()\n",
    "\n",
    "f.savefig(\"plot_felds.png\",dpi=300,bbox_inches='tight')\n",
    "#f.savefig(\"plot_water.pdf\",bbox_inches='tight')\n",
    "\n",
    "plt.show()"
   ]
  },
  {
   "cell_type": "code",
   "execution_count": 17,
   "id": "5a559a17",
   "metadata": {},
   "outputs": [
    {
     "name": "stdout",
     "output_type": "stream",
     "text": [
      "system: data-iteration-0/feldspar/bulk N frames: 302 N atoms: 52 Mean and dev: [-0.00036775  0.06006474] RMSE energy: 1.0515591315423682 RMSE forces: 93.73851211411318\n",
      "system: data-iteration-0/feldspar/001-2 N frames: 28 N atoms: 128 Mean and dev: [-0.00036775  0.06006474] RMSE energy: 2.2513963575638614 RMSE forces: 136.39035671317518\n",
      "system: data-iteration-0/feldspar/010-2 N frames: 20 N atoms: 64 Mean and dev: [-0.00036775  0.06006474] RMSE energy: 1.9391406840652154 RMSE forces: 167.07409481728158\n",
      "system: data-iteration-0/feldspar/100-3/set2 N frames: 300 N atoms: 70 Mean and dev: [-0.00036775  0.06006474] RMSE energy: 0.8800318301871938 RMSE forces: 116.77508000762785\n",
      "system: data-iteration-0/feldspar/100-water-3/set1 N frames: 32 N atoms: 130 Mean and dev: [-0.00036775  0.06006474] RMSE energy: 4.068880441929826 RMSE forces: 138.61616153227092\n",
      "system: data-iteration-0/water/3200bar-235K/HDL-LDL N frames: 201 N atoms: 576 Mean and dev: [-0.00036775  0.06006474] RMSE energy: 0.45375419492245683 RMSE forces: 98.5466380526228\n",
      "system: data-iteration-0/water/multithermal N frames: 122 N atoms: 192 Mean and dev: [-0.00036775  0.06006474] RMSE energy: 0.6155153338287875 RMSE forces: 98.09027681405759\n",
      "system: data-iteration-0/water/1bar-260K N frames: 10 N atoms: 864 Mean and dev: [-0.00036775  0.06006474] RMSE energy: 0.20809342085004578 RMSE forces: 92.34155311894119\n",
      "system: data-iteration-0/water/1bar-270K N frames: 10 N atoms: 864 Mean and dev: [-0.00036775  0.06006474] RMSE energy: 0.14075199062850668 RMSE forces: 94.01459367301494\n",
      "system: data-iteration-0/water/1bar-280K N frames: 7 N atoms: 864 Mean and dev: [-0.00036775  0.06006474] RMSE energy: 0.35085188770296427 RMSE forces: 93.17319689081681\n",
      "system: data-iteration-0/water/1bar-300K N frames: 10 N atoms: 864 Mean and dev: [-0.00036775  0.06006474] RMSE energy: 0.3377026320545615 RMSE forces: 95.22707586369233\n",
      "system: data-iteration-0/water/crystallization/iceIh/0 N frames: 99 N atoms: 288 Mean and dev: [-0.00036775  0.06006474] RMSE energy: 0.423414459953909 RMSE forces: 92.24335768098733\n",
      "system: data-iteration-0/water/crystallization/iceIh/1 N frames: 99 N atoms: 288 Mean and dev: [-0.00036775  0.06006474] RMSE energy: 0.31127089763532234 RMSE forces: 90.9600223586316\n",
      "system: data-iteration-0/water/crystallization/iceIh/2 N frames: 99 N atoms: 288 Mean and dev: [-0.00036775  0.06006474] RMSE energy: 0.36290619114375705 RMSE forces: 91.46857544367955\n",
      "system: data-iteration-0/water/crystallization/iceIc/0 N frames: 100 N atoms: 192 Mean and dev: [-0.00036775  0.06006474] RMSE energy: 0.5074825065054086 RMSE forces: 100.11125361926644\n",
      "system: data-iteration-0/water/crystallization/iceIc/1 N frames: 100 N atoms: 192 Mean and dev: [-0.00036775  0.06006474] RMSE energy: 0.4655008606193067 RMSE forces: 100.66401015263808\n",
      "system: data-iteration-0/water/crystallization/iceIc/2 N frames: 100 N atoms: 192 Mean and dev: [-0.00036775  0.06006474] RMSE energy: 0.5035823515799647 RMSE forces: 100.88819307266165\n",
      "system: data-iteration-6/feldspar/100-water-3-250K N frames: 96 N atoms: 130 Mean and dev: [-0.00036775  0.06006474] RMSE energy: 1.338431324060295 RMSE forces: 119.48803433439248\n",
      "system: data-iteration-6/feldspar/100-water-3-300K N frames: 49 N atoms: 130 Mean and dev: [-0.00036775  0.06006474] RMSE energy: 1.7251385086373576 RMSE forces: 138.54303671929958\n",
      "system: data-iteration-6/feldspar/100-water-3-350K N frames: 45 N atoms: 130 Mean and dev: [-0.00036775  0.06006474] RMSE energy: 1.3830839340130636 RMSE forces: 128.89649480175473\n",
      "system: data-iteration-7/feldspar/100-water-3-250K N frames: 50 N atoms: 130 Mean and dev: [-0.00036775  0.06006474] RMSE energy: 1.4097312657258927 RMSE forces: 105.09458581362226\n",
      "system: data-iteration-7/feldspar/100-water-3-275K N frames: 42 N atoms: 130 Mean and dev: [-0.00036775  0.06006474] RMSE energy: 0.9103688251560275 RMSE forces: 109.84223819384049\n",
      "system: data-iteration-7/feldspar/100-water-3-300K N frames: 40 N atoms: 130 Mean and dev: [-0.00036775  0.06006474] RMSE energy: 0.9036638932966057 RMSE forces: 108.67709259470365\n",
      "system: data-iteration-7/feldspar/100-water-3-325K N frames: 65 N atoms: 130 Mean and dev: [-0.00036775  0.06006474] RMSE energy: 1.8375404892341003 RMSE forces: 143.68578531500586\n",
      "system: data-iteration-7/feldspar/100-water-3-350K N frames: 100 N atoms: 130 Mean and dev: [-0.00036775  0.06006474] RMSE energy: 1.196001124869426 RMSE forces: 126.24121548175779\n",
      "system: data-iteration-8/feldspar/100-water-3-250K N frames: 221 N atoms: 130 Mean and dev: [-0.00036775  0.06006474] RMSE energy: 1.47495639885879 RMSE forces: 120.61541516907086\n",
      "system: data-iteration-8/feldspar/100-water-3-300K N frames: 310 N atoms: 130 Mean and dev: [-0.00036775  0.06006474] RMSE energy: 1.520758744924749 RMSE forces: 120.20267483372406\n",
      "system: data-iteration-8/feldspar/100-water-3-350K N frames: 88 N atoms: 130 Mean and dev: [-0.00036775  0.06006474] RMSE energy: 1.149784179911277 RMSE forces: 111.74802468944586\n",
      "system: data-iteration-9/feldspar/100-water-3 N frames: 66 N atoms: 130 Mean and dev: [-0.00036775  0.06006474] RMSE energy: 2.082715249599352 RMSE forces: 132.78953537581575\n",
      "system: data-iteration-10/feldspar/100-water-3-large N frames: 10 N atoms: 272 Mean and dev: [-0.00036775  0.06006474] RMSE energy: 0.5907565244899287 RMSE forces: 105.54210516179532\n",
      "system: data-iteration-11/feldspar/010-water-2 N frames: 84 N atoms: 225 Mean and dev: [-0.00036775  0.06006474] RMSE energy: 0.8012390483850514 RMSE forces: 118.99166714249085\n",
      "system: data-iteration-11/water/iteration-1 N frames: 129 N atoms: 864 Mean and dev: [-0.00036775  0.06006474] RMSE energy: 0.37601221198952683 RMSE forces: 94.79698344599093\n",
      "system: data-iteration-11/water/iteration-2 N frames: 239 N atoms: 864 Mean and dev: [-0.00036775  0.06006474] RMSE energy: 0.32583909901992686 RMSE forces: 103.78281214488088\n",
      "system: data-iteration-12/water/iteration-3 N frames: 240 N atoms: 864 Mean and dev: [-0.00036775  0.06006474] RMSE energy: 0.4037631839497079 RMSE forces: 100.70418122762207\n",
      "system: data-iteration-12/water/iteration-4 N frames: 279 N atoms: 864 Mean and dev: [-0.00036775  0.06006474] RMSE energy: 0.3589254235145373 RMSE forces: 101.06898324539668\n",
      "system: data-iteration-12/water/iteration-12 N frames: 303 N atoms: 864 Mean and dev: [-0.00036775  0.06006474] RMSE energy: 0.6396088723773113 RMSE forces: 102.7379142313243\n",
      "system: data-iteration-13/feldspar/crystallization/001 N frames: 692 N atoms: 332 Mean and dev: [-0.00036775  0.06006474] RMSE energy: 0.6922675212547343 RMSE forces: 109.99782212210434\n",
      "system: data-iteration-13/feldspar/crystallization/010 N frames: 565 N atoms: 225 Mean and dev: [-0.00036775  0.06006474] RMSE energy: 0.7756419780354014 RMSE forces: 109.15718635075284\n",
      "system: data-iteration-15/feldspar/crystallization/001 N frames: 357 N atoms: 332 Mean and dev: [-0.00036775  0.06006474] RMSE energy: 0.9475654054509687 RMSE forces: 121.65354272129258\n",
      "system: data-iteration-15/feldspar/crystallization/010 N frames: 322 N atoms: 225 Mean and dev: [-0.00036775  0.06006474] RMSE energy: 0.8539651056047396 RMSE forces: 115.7868184438506\n",
      "system: data-iteration-17/feldspar/crystallization/001 N frames: 398 N atoms: 332 Mean and dev: [-0.00036775  0.06006474] RMSE energy: 0.706041997670301 RMSE forces: 112.1461687261967\n",
      "system: data-iteration-17/feldspar/crystallization/010 N frames: 366 N atoms: 225 Mean and dev: [-0.00036775  0.06006474] RMSE energy: 0.8062167634316418 RMSE forces: 110.9839057423777\n",
      "system: data-iteration-18/feldspar/crystallization/001 N frames: 47 N atoms: 332 Mean and dev: [-0.00036775  0.06006474] RMSE energy: 0.9009390198578853 RMSE forces: 117.1008494448943\n",
      "system: data-iteration-18/feldspar/crystallization/010 N frames: 48 N atoms: 225 Mean and dev: [-0.00036775  0.06006474] RMSE energy: 0.9598745365416532 RMSE forces: 111.06976546832463\n",
      "system: data-iteration-19/feldspar/crystallization/001 N frames: 162 N atoms: 664 Mean and dev: [-0.00036775  0.06006474] RMSE energy: 0.45506951354306 RMSE forces: 114.35391427942696\n",
      "system: data-iteration-19/feldspar/crystallization/010 N frames: 387 N atoms: 900 Mean and dev: [-0.00036775  0.06006474] RMSE energy: 0.4489194334991891 RMSE forces: 108.96201943755122\n"
     ]
    },
    {
     "name": "stdout",
     "output_type": "stream",
     "text": [
      "system: data-iteration-19/feldspar/crystallization/100 N frames: 402 N atoms: 544 Mean and dev: [-0.00036775  0.06006474] RMSE energy: 0.42477807210599755 RMSE forces: 101.45520362554183\n",
      "system: data-iteration-20/feldspar/crystallization/100/1 N frames: 400 N atoms: 544 Mean and dev: [-0.00036775  0.06006474] RMSE energy: 0.48003643369334587 RMSE forces: 101.26584162367877\n",
      "system: data-iteration-20/feldspar/crystallization/100/2 N frames: 200 N atoms: 544 Mean and dev: [-0.00036775  0.06006474] RMSE energy: 0.45972844701417787 RMSE forces: 103.52396483185852\n",
      "system: data-iteration-21/feldspar/crystallization/100/1 N frames: 200 N atoms: 544 Mean and dev: [-0.00036775  0.06006474] RMSE energy: 0.41971813253125817 RMSE forces: 99.97888689438936\n",
      "system: data-iteration-21/feldspar/crystallization/100/2 N frames: 222 N atoms: 544 Mean and dev: [-0.00036775  0.06006474] RMSE energy: 0.3842071246076442 RMSE forces: 99.7455641826721\n",
      "system: data-iteration-22/feldspar/crystallization/100/1 N frames: 104 N atoms: 544 Mean and dev: [-0.00036775  0.06006474] RMSE energy: 0.8275100213989446 RMSE forces: 112.71941606506125\n",
      "system: data-iteration-22/feldspar/crystallization/100/2 N frames: 102 N atoms: 544 Mean and dev: [-0.00036775  0.06006474] RMSE energy: 0.47507077441017054 RMSE forces: 102.509531476353\n",
      "system: data-iteration-23/feldspar/crystallization/100/1 N frames: 289 N atoms: 544 Mean and dev: [-0.00036775  0.06006474] RMSE energy: 0.470586713073695 RMSE forces: 101.23315886741074\n",
      "system: data-iteration-23/feldspar/crystallization/100/2 N frames: 203 N atoms: 544 Mean and dev: [-0.00036775  0.06006474] RMSE energy: 0.47798527635783383 RMSE forces: 102.50191799526594\n",
      "system: data-iteration-24/feldspar/crystallization/100/1 N frames: 182 N atoms: 544 Mean and dev: [-0.00036775  0.06006474] RMSE energy: 0.6726652304445672 RMSE forces: 104.76299520012302\n",
      "system: data-iteration-24/feldspar/crystallization/100/2 N frames: 165 N atoms: 544 Mean and dev: [-0.00036775  0.06006474] RMSE energy: 0.637754098201952 RMSE forces: 111.23103664427582\n",
      "system: data-iteration-25/feldspar/crystallization/100 N frames: 200 N atoms: 544 Mean and dev: [-0.00036775  0.06006474] RMSE energy: 0.4694240465670012 RMSE forces: 102.16756376311385\n",
      "system: data-iteration-25/feldspar/crystallization/010 N frames: 150 N atoms: 900 Mean and dev: [-0.00036775  0.06006474] RMSE energy: 0.45776646956154365 RMSE forces: 107.9757166030886\n",
      "system: data-iteration-25/feldspar/crystallization/001 N frames: 192 N atoms: 664 Mean and dev: [-0.00036775  0.06006474] RMSE energy: 0.5416645608770808 RMSE forces: 111.1502412430242\n",
      "system: data-iteration-26/feldspar/crystallization/100 N frames: 157 N atoms: 544 Mean and dev: [-0.00036775  0.06006474] RMSE energy: 0.8365838575733983 RMSE forces: 106.4713636590511\n",
      "system: data-iteration-26/feldspar/crystallization/010 N frames: 142 N atoms: 900 Mean and dev: [-0.00036775  0.06006474] RMSE energy: 0.40263663141591743 RMSE forces: 107.07801083609652\n",
      "system: data-iteration-26/feldspar/crystallization/001 N frames: 56 N atoms: 664 Mean and dev: [-0.00036775  0.06006474] RMSE energy: 0.5577471325339511 RMSE forces: 113.37744316535918\n",
      "All: RMSE energy: 0.8116791968331992 RMSE forces: 106.0371411759975\n"
     ]
    }
   ],
   "source": [
    "folders=np.array([\"data-iteration-0/feldspar/bulk\",\n",
    "                \"data-iteration-0/feldspar/001-2\",\n",
    "                \"data-iteration-0/feldspar/010-2\",\n",
    "                \"data-iteration-0/feldspar/100-3/set2\",\n",
    "                \"data-iteration-0/feldspar/100-water-3/set1\",\n",
    "                \"data-iteration-0/water/3200bar-235K/HDL-LDL\",\n",
    "                \"data-iteration-0/water/multithermal\",\n",
    "                \"data-iteration-0/water/1bar-260K\",\n",
    "                \"data-iteration-0/water/1bar-270K\",\n",
    "                \"data-iteration-0/water/1bar-280K\",\n",
    "                \"data-iteration-0/water/1bar-300K\",\n",
    "                \"data-iteration-0/water/crystallization/iceIh/0\",\n",
    "                \"data-iteration-0/water/crystallization/iceIh/1\",\n",
    "                \"data-iteration-0/water/crystallization/iceIh/2\",\n",
    "                \"data-iteration-0/water/crystallization/iceIc/0\",\n",
    "                \"data-iteration-0/water/crystallization/iceIc/1\",\n",
    "                \"data-iteration-0/water/crystallization/iceIc/2\",\n",
    "                \"data-iteration-6/feldspar/100-water-3-250K\",\n",
    "                \"data-iteration-6/feldspar/100-water-3-300K\",\n",
    "                \"data-iteration-6/feldspar/100-water-3-350K\",\n",
    "                \"data-iteration-7/feldspar/100-water-3-250K\",\n",
    "                \"data-iteration-7/feldspar/100-water-3-275K\",\n",
    "                \"data-iteration-7/feldspar/100-water-3-300K\",\n",
    "                \"data-iteration-7/feldspar/100-water-3-325K\",\n",
    "                \"data-iteration-7/feldspar/100-water-3-350K\",\n",
    "                \"data-iteration-8/feldspar/100-water-3-250K\",\n",
    "                \"data-iteration-8/feldspar/100-water-3-300K\",\n",
    "                \"data-iteration-8/feldspar/100-water-3-350K\",\n",
    "                \"data-iteration-9/feldspar/100-water-3\",\n",
    "                \"data-iteration-10/feldspar/100-water-3-large\",\n",
    "                \"data-iteration-11/feldspar/010-water-2\",\n",
    "                \"data-iteration-11/water/iteration-1\",\n",
    "                \"data-iteration-11/water/iteration-2\",\n",
    "                \"data-iteration-12/water/iteration-3\",\n",
    "                \"data-iteration-12/water/iteration-4\",\n",
    "                \"data-iteration-12/water/iteration-12\",\n",
    "                \"data-iteration-13/feldspar/crystallization/001\",\n",
    "                \"data-iteration-13/feldspar/crystallization/010\",\n",
    "                \"data-iteration-15/feldspar/crystallization/001\",\n",
    "                \"data-iteration-15/feldspar/crystallization/010\",\n",
    "                \"data-iteration-17/feldspar/crystallization/001\",\n",
    "                \"data-iteration-17/feldspar/crystallization/010\",\n",
    "                \"data-iteration-18/feldspar/crystallization/001\",\n",
    "                \"data-iteration-18/feldspar/crystallization/010\",\n",
    "                \"data-iteration-19/feldspar/crystallization/001\",\n",
    "                \"data-iteration-19/feldspar/crystallization/010\",\n",
    "                \"data-iteration-19/feldspar/crystallization/100\",\n",
    "                \"data-iteration-20/feldspar/crystallization/100/1\",\n",
    "                \"data-iteration-20/feldspar/crystallization/100/2\",\n",
    "                \"data-iteration-21/feldspar/crystallization/100/1\",\n",
    "                \"data-iteration-21/feldspar/crystallization/100/2\",\n",
    "                \"data-iteration-22/feldspar/crystallization/100/1\",\n",
    "                \"data-iteration-22/feldspar/crystallization/100/2\",\n",
    "                \"data-iteration-23/feldspar/crystallization/100/1\",\n",
    "                \"data-iteration-23/feldspar/crystallization/100/2\",\n",
    "                \"data-iteration-24/feldspar/crystallization/100/1\",\n",
    "                \"data-iteration-24/feldspar/crystallization/100/2\",\n",
    "                \"data-iteration-25/feldspar/crystallization/100\",\n",
    "                \"data-iteration-25/feldspar/crystallization/010\",\n",
    "                \"data-iteration-25/feldspar/crystallization/001\",\n",
    "                \"data-iteration-26/feldspar/crystallization/100\",\n",
    "                \"data-iteration-26/feldspar/crystallization/010\",\n",
    "                \"data-iteration-26/feldspar/crystallization/001\"])\n",
    "\n",
    "initialized=False\n",
    "\n",
    "for folder in folders:\n",
    "    system = dpdata.LabeledSystem(path + folder, fmt = 'deepmd/raw')\n",
    "    e, f, v = dp.eval(system['coords'], system['cells'], system['atom_types'])\n",
    "    energy_model = e.reshape([-1])\n",
    "    shift=np.mean(energy_model)\n",
    "    energy_model -= shift\n",
    "    force_model = f.reshape([-1])\n",
    "    energy_dft=np.genfromtxt(path + folder + \"/energy.raw\")\n",
    "    energy_dft -= shift\n",
    "    force_dft=np.genfromtxt(path + folder + \"/force.raw\").reshape([-1])\n",
    "    frames=system['coords'].shape[0]\n",
    "    number_of_molecules=system['atom_types'].shape[0]\n",
    "    if initialized:\n",
    "        energy_model_concat = np.concatenate((energy_model_concat,energy_model/number_of_molecules),axis=0)\n",
    "        energy_dft_concat = np.concatenate((energy_dft_concat,energy_dft/number_of_molecules),axis=0)\n",
    "        force_model_concat = np.concatenate((force_model_concat,force_model),axis=0)\n",
    "        force_dft_concat = np.concatenate((force_dft_concat,force_dft),axis=0)\n",
    "    else:\n",
    "        energy_model_concat = energy_model/number_of_molecules\n",
    "        energy_dft_concat = energy_dft/number_of_molecules\n",
    "        force_model_concat = np.copy(force_model)\n",
    "        force_dft_concat = np.copy(force_dft)\n",
    "        initialized=True\n",
    "    filename = \"energy-\" + folder.replace(\"/\",\"-\") + \".png\"\n",
    "    #plt.close()\n",
    "    rmserror_e=np.sqrt(np.mean(np.power(1000*(energy_model-energy_dft)/number_of_molecules,2)))\n",
    "    rmserror_f=np.sqrt(np.mean(np.power(1000*(force_model-force_dft),2)))\n",
    "    print(\"system:\",folder,\"N frames:\",frames,\"N atoms:\",number_of_molecules,\"Mean and dev:\",popt,\"RMSE energy:\",rmserror_e,\"RMSE forces:\",rmserror_f)\n",
    "\n",
    "rmserror_e=np.sqrt(np.mean(np.power(1000*(energy_model_concat-energy_dft_concat),2)))\n",
    "rmserror_f=np.sqrt(np.mean(np.power(1000*(force_model_concat-force_dft_concat),2)))\n",
    "print(\"All: RMSE energy:\",rmserror_e,\"RMSE forces:\",rmserror_f)\n",
    "\n"
   ]
  },
  {
   "cell_type": "code",
   "execution_count": 19,
   "id": "4e8f9b94",
   "metadata": {},
   "outputs": [
    {
     "name": "stdout",
     "output_type": "stream",
     "text": [
      "Energy fit parameters:  [0.05922003 0.56041318] [0.0134176  0.01095543]\n",
      "Forces fit parameters:  [-0.00049015  0.05623454] [0.00094443 0.00094542]\n"
     ]
    },
    {
     "data": {
      "image/png": "[encoded data removed]",
      "text/plain": [
       "<Figure size 252x216 with 4 Axes>"
      ]
     },
     "metadata": {
      "needs_background": "light"
     },
     "output_type": "display_data"
    },
    {
     "data": {
      "text/plain": [
       "<Figure size 252x216 with 0 Axes>"
      ]
     },
     "metadata": {},
     "output_type": "display_data"
    }
   ],
   "source": [
    "plt.rcParams[\"figure.figsize\"] = (3.5,3)\n",
    "font = {'family' : 'serif',\n",
    "'serif'   : 'palatino',\n",
    "'style'   : 'normal',\n",
    "'variant'   : 'normal',\n",
    "'stretch'   : 'normal',\n",
    "'weight'   : 'normal',\n",
    "'size'   : 11}\n",
    "plt.rc('font', **font)\n",
    "\n",
    "f, ax = plt.subplots(2, 2)\n",
    "plt.tight_layout()\n",
    "\n",
    "ax[0,0].set_xlabel(r\"$E_\\mathrm{ML}-E_\\mathrm{DFT}$ (meV/atom)\",labelpad=1.25)\n",
    "ax[0,0].set_ylabel(\"Prob. density\",labelpad=1.25)\n",
    "ax[0,0].hist(1000*(energy_model_concat-energy_dft_concat),density=True, bins=50, range=(-4,4),alpha=0.5,color=colors[2])\n",
    "hist, bin_edges = np.histogram(1000*(energy_model_concat-energy_dft_concat), bins=50, range=(-4,4),density=True)\n",
    "halfbin = (bin_edges[1:]+bin_edges[:-1])/2.0\n",
    "popt, pcov = curve_fit(func, halfbin, hist, p0=(0,100))\n",
    "x=np.linspace(-4,4,100)\n",
    "ax[0,0].set_xlim([-4,4])\n",
    "ax[0,0].set_xticks([-3,0,3])\n",
    "ax[0,0].plot(x,func(x,*popt),'--',color=colors[2])\n",
    "print(\"Energy fit parameters: \", popt,np.sqrt(np.diag(pcov)))\n",
    "\n",
    "ax[0,1].set_xlabel(r\"$f_\\mathrm{ML}-f_\\mathrm{DFT}$ (eV/\\AA)\",labelpad=1.25)\n",
    "ax[0,1].set_ylabel(\"Prob. density\",labelpad=1.25)\n",
    "ax[0,1].hist(force_model_concat-force_dft_concat,density=True, bins=100, range=(-0.500,0.500),alpha=0.5,color=colors[2])\n",
    "hist, bin_edges = np.histogram(force_model_concat-force_dft_concat, bins=100, range=(-0.400,0.400),density=True)\n",
    "halfbin = (bin_edges[1:]+bin_edges[:-1])/2.0\n",
    "popt, pcov = curve_fit(func2, halfbin, hist, p0=(0,100))\n",
    "ax[0,1].set_xlim([-0.5,0.5])\n",
    "x=np.linspace(-0.500,0.500,100)\n",
    "ax[0,1].plot(x,func2(x,*popt),'--',color=colors[2])\n",
    "print(\"Forces fit parameters: \", popt,np.sqrt(np.diag(pcov)))\n",
    "\n",
    "#mean=((np.amax(energy_dft_concat)-np.amin(energy_dft_concat))/2 + np.amin(energy_dft_concat))\n",
    "#print(1000*np.mean(energy_dft_concat))\n",
    "#print(1000*((np.amax(energy_dft_concat)-np.amin(energy_dft_concat))/2 + np.amin(energy_dft_concat)))\n",
    "shift=-300\n",
    "ax[1,0].set_xlabel(r\"$E_\\mathrm{DFT}$ (meV/atom)\",labelpad=1.25)\n",
    "ax[1,0].set_ylabel(r\"$E_\\mathrm{ML}$ (meV/atom)\",labelpad=1.25)\n",
    "ax[1,0].scatter(1000*energy_dft_concat+shift,1000*energy_model_concat+shift,s=1,color=colors[2])\n",
    "limsup=800\n",
    "liminf=-800\n",
    "ax[1,0].set_xlim([liminf,limsup])\n",
    "ax[1,0].set_ylim([liminf,limsup])\n",
    "ax[1,0].plot([liminf,limsup],[liminf,limsup],'--',linewidth=0.5,color='black',zorder=0,alpha=0.75)\n",
    "\n",
    "fig = plt.figure()\n",
    "ax[1,1].set_xlabel(r\"$f_\\mathrm{DFT}$ (eV/\\AA)\",labelpad=1.25)\n",
    "ax[1,1].set_ylabel(r\"$f_\\mathrm{ML}$ (eV/\\AA)\",labelpad=1.25)\n",
    "ax[1,1].scatter(force_dft_concat,force_model_concat,s=0.1,color=colors[2])\n",
    "limsup=100\n",
    "liminf=-100\n",
    "ax[1,1].set_xlim([liminf,limsup])\n",
    "ax[1,1].set_ylim([liminf,limsup])\n",
    "ax[1,1].plot([liminf,limsup],[liminf,limsup],'--',linewidth=0.5,color='black',zorder=0,alpha=0.75)\n",
    "\n",
    "\n",
    "f.tight_layout()\n",
    "\n",
    "f.savefig(\"plot_all.png\",dpi=300,bbox_inches='tight')\n",
    "#f.savefig(\"plot_water.pdf\",bbox_inches='tight')\n",
    "\n",
    "plt.show()"
   ]
  },
  {
   "cell_type": "code",
   "execution_count": 84,
   "id": "915b4149",
   "metadata": {},
   "outputs": [
    {
     "name": "stdout",
     "output_type": "stream",
     "text": [
      "-264900.76031744253\n",
      "-327083.3959572136\n"
     ]
    },
    {
     "data": {
      "image/png": "[encoded data removed]",
      "text/plain": [
       "<Figure size 252x216 with 1 Axes>"
      ]
     },
     "metadata": {
      "needs_background": "light"
     },
     "output_type": "display_data"
    }
   ],
   "source": [
    "mean=1000*((np.amax(energy_dft_concat)-np.amin(energy_dft_concat))/2 + np.amin(energy_dft_concat))\n",
    "print(1000*np.mean(energy_dft_concat))\n",
    "print(1000*((np.amax(energy_dft_concat)-np.amin(energy_dft_concat))/2 + np.amin(energy_dft_concat)))\n",
    "#ax[1,0].set_xlabel(r\"$E_\\mathrm{DFT}$ (meV/atom)\",labelpad=1.25)\n",
    "#ax[1,0].set_ylabel(r\"$E_\\mathrm{ML}$ (meV/atom)\",labelpad=1.25)\n",
    "plt.scatter(1000*energy_dft_concat-mean,1000*energy_model_concat-mean,s=1,color=colors[2])\n",
    "#limsup=100\n",
    "#liminf=-100\n",
    "#ax[1,0].set_xlim([liminf,limsup])\n",
    "#ax[1,0].set_ylim([liminf,limsup])\n",
    "plt.plot([liminf,limsup],[liminf,limsup],'--',linewidth=0.5,color='black',zorder=0,alpha=0.75)\n",
    "plt.show()"
   ]
  },
  {
   "cell_type": "code",
   "execution_count": null,
   "id": "c2260ac1",
   "metadata": {},
   "outputs": [],
   "source": []
  },
  {
   "cell_type": "code",
   "execution_count": 116,
   "id": "77a1318a",
   "metadata": {},
   "outputs": [
    {
     "data": {
      "image/png": "[encoded data removed]",
      "text/plain": [
       "<Figure size 252x216 with 1 Axes>"
      ]
     },
     "metadata": {
      "needs_background": "light"
     },
     "output_type": "display_data"
    }
   ],
   "source": [
    "folders=np.array([\"data-iteration-0/feldspar/bulk\",\n",
    "                  \"data-iteration-0/water/crystallization/iceIh/0\",\n",
    "                  \"data-iteration-26/feldspar/crystallization/100\"])\n",
    "\n",
    "initialized=False\n",
    "counter=0\n",
    "for folder in folders:\n",
    "    system = dpdata.LabeledSystem(path + folder, fmt = 'deepmd/raw')\n",
    "    e, f, v = dp.eval(system['coords'], system['cells'], system['atom_types'])\n",
    "    energy_model = e.reshape([-1])\n",
    "    force_model = f.reshape([-1])\n",
    "    energy_dft=np.genfromtxt(path + folder + \"/energy.raw\")\n",
    "    force_dft=np.genfromtxt(path + folder + \"/force.raw\").reshape([-1])\n",
    "    frames=system['coords'].shape[0]\n",
    "    number_of_molecules=system['atom_types'].shape[0]\n",
    "    plt.scatter(energy_dft/number_of_molecules,energy_model/number_of_molecules,color=colors[counter])\n",
    "    counter += 1\n",
    "plt.show()\n"
   ]
  },
  {
   "cell_type": "code",
   "execution_count": null,
   "id": "c013bbc9",
   "metadata": {},
   "outputs": [],
   "source": []
  },
  {
   "cell_type": "code",
   "execution_count": 10,
   "id": "69659edf",
   "metadata": {},
   "outputs": [
    {
     "name": "stdout",
     "output_type": "stream",
     "text": [
      "system: data-iteration-27/feldspar/crystallization/001 N frames: 200 N atoms: 664 RMSE energy: 0.4967776980642823 RMSE forces: 111.62553490553113\n",
      "system: data-iteration-27/feldspar/crystallization/010 N frames: 193 N atoms: 900 RMSE energy: 0.4882502579102292 RMSE forces: 104.71120552007851\n",
      "All: RMSE energy: 0.49260836869251245 RMSE forces: 107.76152095165875\n"
     ]
    }
   ],
   "source": [
    "path=\"/scratch/gpfs/ppiaggi/Simulations/HeterogeneousNucleation/TrainModel/Feldspar/iteration-28/\"\n",
    "\n",
    "folders=np.array([#\"data-iteration-0/water/3200bar-235K/LDL\",\n",
    "                #\"data-iteration-0/water/1bar-265K\",\n",
    "                #\"data-iteration-0/water/1bar-275K\",\n",
    "                #\"data-iteration-0/water/1bar-290K\",\n",
    "                #\"data-iteration-0/water/1bar-310K\",\n",
    "                #\"data-iteration-0/feldspar/100-3/set1\",\n",
    "                #\"data-iteration-0/water/crystallization/iceIh/3\",\n",
    "                #\"data-iteration-0/water/crystallization/iceIc/3\",\n",
    "                \"data-iteration-27/feldspar/crystallization/001\",\n",
    "                \"data-iteration-27/feldspar/crystallization/010\"\n",
    "                 ])\n",
    "\n",
    "initialized=False\n",
    "\n",
    "for folder in folders:\n",
    "    system = dpdata.LabeledSystem(path + folder, fmt = 'deepmd/raw')\n",
    "    e, f, v = dp.eval(system['coords'], system['cells'], system['atom_types'])\n",
    "    energy_model = e.reshape([-1])\n",
    "    force_model = f.reshape([-1])\n",
    "    energy_dft=np.genfromtxt(path + folder + \"/energy.raw\")\n",
    "    force_dft=np.genfromtxt(path + folder + \"/force.raw\").reshape([-1])\n",
    "    frames=system['coords'].shape[0]\n",
    "    number_of_molecules=system['atom_types'].shape[0]\n",
    "    if initialized:\n",
    "        energy_model_concat = np.concatenate((energy_model_concat,energy_model/number_of_molecules),axis=0)\n",
    "        energy_dft_concat = np.concatenate((energy_dft_concat,energy_dft/number_of_molecules),axis=0)\n",
    "        force_model_concat = np.concatenate((force_model_concat,force_model),axis=0)\n",
    "        force_dft_concat = np.concatenate((force_dft_concat,force_dft),axis=0)\n",
    "    else:\n",
    "        energy_model_concat = energy_model/number_of_molecules\n",
    "        energy_dft_concat = energy_dft/number_of_molecules\n",
    "        force_model_concat = np.copy(force_model)\n",
    "        force_dft_concat = np.copy(force_dft)\n",
    "        initialized=True\n",
    "    filename = \"energy-\" + folder.replace(\"/\",\"-\") + \".png\"\n",
    "    #plt.close()\n",
    "    rmserror_e=np.sqrt(np.mean(np.power(1000*(energy_model-energy_dft)/number_of_molecules,2)))\n",
    "    rmserror_f=np.sqrt(np.mean(np.power(1000*(force_model-force_dft),2)))\n",
    "    print(\"system:\",folder,\"N frames:\",frames,\"N atoms:\",number_of_molecules,\"RMSE energy:\",rmserror_e,\"RMSE forces:\",rmserror_f)\n",
    "\n",
    "rmserror_e=np.sqrt(np.mean(np.power(1000*(energy_model_concat-energy_dft_concat),2)))\n",
    "rmserror_f=np.sqrt(np.mean(np.power(1000*(force_model_concat-force_dft_concat),2)))\n",
    "print(\"All: RMSE energy:\",rmserror_e,\"RMSE forces:\",rmserror_f)"
   ]
  },
  {
   "cell_type": "code",
   "execution_count": null,
   "id": "eeb846e7",
   "metadata": {},
   "outputs": [],
   "source": []
  },
  {
   "cell_type": "markdown",
   "id": "b8fec69c",
   "metadata": {},
   "source": [
    "## Other test"
   ]
  },
  {
   "cell_type": "code",
   "execution_count": 4,
   "id": "40eef112",
   "metadata": {},
   "outputs": [
    {
     "name": "stderr",
     "output_type": "stream",
     "text": [
      "2023-05-30 15:12:18.988761: I tensorflow/core/platform/cpu_feature_guard.cc:193] This TensorFlow binary is optimized with oneAPI Deep Neural Network Library (oneDNN) to use the following CPU instructions in performance-critical operations:  SSE4.1 SSE4.2 AVX AVX2 FMA\n",
      "To enable them in other operations, rebuild TensorFlow with the appropriate compiler flags.\n",
      "2023-05-30 15:12:26.461225: I tensorflow/core/common_runtime/gpu/gpu_device.cc:1532] Created device /job:localhost/replica:0/task:0/device:GPU:0 with 14586 MB memory:  -> device: 0, name: Tesla P100-PCIE-16GB, pci bus id: 0000:03:00.0, compute capability: 6.0\n",
      "2023-05-30 15:12:26.566779: I tensorflow/core/common_runtime/gpu/gpu_device.cc:1532] Created device /job:localhost/replica:0/task:0/device:GPU:1 with 15373 MB memory:  -> device: 1, name: Tesla P100-PCIE-16GB, pci bus id: 0000:04:00.0, compute capability: 6.0\n",
      "2023-05-30 15:12:26.567414: I tensorflow/core/common_runtime/gpu/gpu_device.cc:1532] Created device /job:localhost/replica:0/task:0/device:GPU:2 with 15373 MB memory:  -> device: 2, name: Tesla P100-PCIE-16GB, pci bus id: 0000:82:00.0, compute capability: 6.0\n",
      "2023-05-30 15:12:26.568071: I tensorflow/core/common_runtime/gpu/gpu_device.cc:1532] Created device /job:localhost/replica:0/task:0/device:GPU:3 with 15373 MB memory:  -> device: 3, name: Tesla P100-PCIE-16GB, pci bus id: 0000:83:00.0, compute capability: 6.0\n",
      "2023-05-30 15:12:26.568358: I tensorflow/core/common_runtime/process_util.cc:146] Creating new thread pool with default inter op setting: 2. Tune using inter_op_parallelism_threads for best performance.\n",
      "2023-05-30 15:12:26.626284: I tensorflow/compiler/mlir/mlir_graph_optimization_pass.cc:354] MLIR V1 optimization pass is not enabled\n",
      "2023-05-30 15:12:26.852106: I tensorflow/core/common_runtime/gpu/gpu_device.cc:1532] Created device /job:localhost/replica:0/task:0/device:GPU:0 with 14586 MB memory:  -> device: 0, name: Tesla P100-PCIE-16GB, pci bus id: 0000:03:00.0, compute capability: 6.0\n",
      "2023-05-30 15:12:26.852496: I tensorflow/core/common_runtime/gpu/gpu_device.cc:1532] Created device /job:localhost/replica:0/task:0/device:GPU:1 with 15373 MB memory:  -> device: 1, name: Tesla P100-PCIE-16GB, pci bus id: 0000:04:00.0, compute capability: 6.0\n",
      "2023-05-30 15:12:26.852768: I tensorflow/core/common_runtime/gpu/gpu_device.cc:1532] Created device /job:localhost/replica:0/task:0/device:GPU:2 with 15373 MB memory:  -> device: 2, name: Tesla P100-PCIE-16GB, pci bus id: 0000:82:00.0, compute capability: 6.0\n",
      "2023-05-30 15:12:26.853111: I tensorflow/core/common_runtime/gpu/gpu_device.cc:1532] Created device /job:localhost/replica:0/task:0/device:GPU:3 with 15373 MB memory:  -> device: 3, name: Tesla P100-PCIE-16GB, pci bus id: 0000:83:00.0, compute capability: 6.0\n"
     ]
    }
   ],
   "source": [
    "dp = DeepPot('/scratch/gpfs/ppiaggi/Simulations/HeterogeneousNucleation/TrainModel/Feldspar/iteration-27/train-models-water-interfaces/1/frozen_model_1.pb')"
   ]
  },
  {
   "cell_type": "code",
   "execution_count": 81,
   "id": "93ce7f5f",
   "metadata": {},
   "outputs": [
    {
     "name": "stdout",
     "output_type": "stream",
     "text": [
      "system: data-iteration-27/feldspar/crystallization/001 N frames: 200 N atoms: 664 RMSE energy: 0.4967776980642823 RMSE forces: 111.62553490553113\n",
      "system: data-iteration-27/feldspar/crystallization/010 N frames: 193 N atoms: 900 RMSE energy: 0.4882502579102292 RMSE forces: 104.71120552007851\n",
      "system: data-iteration-27/feldspar/crystallization/100 N frames: 200 N atoms: 544 RMSE energy: 0.7577113473840024 RMSE forces: 103.61738357402015\n",
      "All: RMSE energy: 0.5953612959485688 RMSE forces: 106.69140515620545\n"
     ]
    }
   ],
   "source": [
    "path=\"/scratch/gpfs/ppiaggi/Simulations/HeterogeneousNucleation/TrainModel/Feldspar/iteration-28/\"\n",
    "\n",
    "folders=np.array([\"data-iteration-27/feldspar/crystallization/001\",\n",
    "                \"data-iteration-27/feldspar/crystallization/010\",\n",
    "                \"data-iteration-27/feldspar/crystallization/100\"])\n",
    "\n",
    "initialized=False\n",
    "\n",
    "for folder in folders:\n",
    "    system = dpdata.LabeledSystem(path + folder, fmt = 'deepmd/raw')\n",
    "    e, f, v = dp.eval(system['coords'], system['cells'], system['atom_types'])\n",
    "    energy_model = e.reshape([-1])\n",
    "    shift=np.mean(energy_model)\n",
    "    energy_model -= shift\n",
    "    force_model = f.reshape([-1])\n",
    "    energy_dft=np.genfromtxt(path + folder + \"/energy.raw\")\n",
    "    energy_dft -= shift\n",
    "    force_dft=np.genfromtxt(path + folder + \"/force.raw\").reshape([-1])\n",
    "    frames=system['coords'].shape[0]\n",
    "    number_of_molecules=system['atom_types'].shape[0]\n",
    "    if initialized:\n",
    "        energy_model_concat = np.concatenate((energy_model_concat,energy_model/number_of_molecules),axis=0)\n",
    "        energy_dft_concat = np.concatenate((energy_dft_concat,energy_dft/number_of_molecules),axis=0)\n",
    "        force_model_concat = np.concatenate((force_model_concat,force_model),axis=0)\n",
    "        force_dft_concat = np.concatenate((force_dft_concat,force_dft),axis=0)\n",
    "    else:\n",
    "        energy_model_concat = energy_model/number_of_molecules\n",
    "        energy_dft_concat = energy_dft/number_of_molecules\n",
    "        force_model_concat = np.copy(force_model)\n",
    "        force_dft_concat = np.copy(force_dft)\n",
    "        initialized=True\n",
    "    filename = \"energy-\" + folder.replace(\"/\",\"-\") + \".png\"\n",
    "    #plt.close()\n",
    "    rmserror_e=np.sqrt(np.mean(np.power(1000*(energy_model-energy_dft)/number_of_molecules,2)))\n",
    "    rmserror_f=np.sqrt(np.mean(np.power(1000*(force_model-force_dft),2)))\n",
    "    print(\"system:\",folder,\"N frames:\",frames,\"N atoms:\",number_of_molecules,\"RMSE energy:\",rmserror_e,\"RMSE forces:\",rmserror_f)\n",
    "\n",
    "rmserror_e=np.sqrt(np.mean(np.power(1000*(energy_model_concat-energy_dft_concat),2)))\n",
    "rmserror_f=np.sqrt(np.mean(np.power(1000*(force_model_concat-force_dft_concat),2)))\n",
    "print(\"All: RMSE energy:\",rmserror_e,\"RMSE forces:\",rmserror_f)\n"
   ]
  },
  {
   "cell_type": "code",
   "execution_count": 82,
   "id": "1c34308f",
   "metadata": {},
   "outputs": [
    {
     "name": "stdout",
     "output_type": "stream",
     "text": [
      "Energy fit parameters:  [-0.34435022  0.43685621] [0.01195223 0.00975896]\n",
      "Forces fit parameters:  [-0.00027304  0.05939351] [0.00106862 0.00106992]\n"
     ]
    },
    {
     "data": {
      "image/png": "[encoded data removed]",
      "text/plain": [
       "<Figure size 252x216 with 4 Axes>"
      ]
     },
     "metadata": {
      "needs_background": "light"
     },
     "output_type": "display_data"
    },
    {
     "data": {
      "text/plain": [
       "<Figure size 252x216 with 0 Axes>"
      ]
     },
     "metadata": {},
     "output_type": "display_data"
    }
   ],
   "source": [
    "plt.rcParams[\"figure.figsize\"] = (3.5,3)\n",
    "font = {'family' : 'serif',\n",
    "'serif'   : 'palatino',\n",
    "'style'   : 'normal',\n",
    "'variant'   : 'normal',\n",
    "'stretch'   : 'normal',\n",
    "'weight'   : 'normal',\n",
    "'size'   : 9}\n",
    "plt.rc('font', **font)\n",
    "\n",
    "f, ax = plt.subplots(2, 2)\n",
    "plt.tight_layout()\n",
    "\n",
    "ax[0,0].set_xlabel(r\"$E_\\mathrm{ML}-E_\\mathrm{DFT}$ (meV/atom)\",labelpad=1.25)\n",
    "ax[0,0].set_ylabel(\"Prob. density\",labelpad=1.25)\n",
    "ax[0,0].hist(1000*(energy_model_concat-energy_dft_concat),density=True, bins=50, range=(-4,4),alpha=0.5,color=colors[0])\n",
    "hist, bin_edges = np.histogram(1000*(energy_model_concat-energy_dft_concat), bins=50, range=(-4,4),density=True)\n",
    "halfbin = (bin_edges[1:]+bin_edges[:-1])/2.0\n",
    "popt, pcov = curve_fit(func, halfbin, hist, p0=(0,100))\n",
    "x=np.linspace(-4,4,100)\n",
    "ax[0,0].set_xlim([-4,4])\n",
    "ax[0,0].plot(x,func(x,*popt),'--',color=colors[0])\n",
    "print(\"Energy fit parameters: \", popt,np.sqrt(np.diag(pcov)))\n",
    "\n",
    "ax[0,1].set_xlabel(r\"$f_\\mathrm{ML}-f_\\mathrm{DFT}$ (eV/\\AA)\",labelpad=1.25)\n",
    "ax[0,1].set_ylabel(\"Prob. density\",labelpad=1.25)\n",
    "ax[0,1].hist(force_model_concat-force_dft_concat,density=True, bins=100, range=(-0.500,0.500),alpha=0.5,color=colors[0])\n",
    "hist, bin_edges = np.histogram(force_model_concat-force_dft_concat, bins=100, range=(-0.400,0.400),density=True)\n",
    "halfbin = (bin_edges[1:]+bin_edges[:-1])/2.0\n",
    "popt, pcov = curve_fit(func2, halfbin, hist, p0=(0,100))\n",
    "ax[0,1].set_xlim([-0.5,0.5])\n",
    "x=np.linspace(-0.500,0.500,100)\n",
    "ax[0,1].plot(x,func2(x,*popt),'--',color=colors[0])\n",
    "print(\"Forces fit parameters: \", popt,np.sqrt(np.diag(pcov)))\n",
    "\n",
    "mean=((np.amax(energy_dft_concat)-np.amin(energy_dft_concat))/2 + np.amin(energy_dft_concat))\n",
    "#print(1000*np.mean(energy_dft_concat))\n",
    "#print(1000*((np.amax(energy_dft_concat)-np.amin(energy_dft_concat))/2 + np.amin(energy_dft_concat)))\n",
    "ax[1,0].set_xlabel(r\"$E_\\mathrm{DFT}$ (meV/atom)\",labelpad=1.25)\n",
    "ax[1,0].set_ylabel(r\"$E_\\mathrm{ML}$ (meV/atom)\",labelpad=1.25)\n",
    "ax[1,0].scatter(1000*(energy_dft_concat-mean),1000*(energy_model_concat-mean),s=1,color=colors[0])\n",
    "limsup=12\n",
    "liminf=-12\n",
    "ax[1,0].set_xlim([liminf,limsup])\n",
    "ax[1,0].set_ylim([liminf,limsup])\n",
    "ax[1,0].plot([liminf,limsup],[liminf,limsup],'--',linewidth=0.5,color='black',zorder=0,alpha=0.75)\n",
    "\n",
    "fig = plt.figure()\n",
    "ax[1,1].set_xlabel(r\"$f_\\mathrm{DFT}$ (eV/\\AA)\",labelpad=1.25)\n",
    "ax[1,1].set_ylabel(r\"$f_\\mathrm{ML}$ (eV/\\AA)\",labelpad=1.25)\n",
    "ax[1,1].scatter(force_dft_concat,force_model_concat,s=0.1,color=colors[0])\n",
    "limsup=10\n",
    "liminf=-10\n",
    "ax[1,1].set_xlim([liminf,limsup])\n",
    "ax[1,1].set_ylim([liminf,limsup])\n",
    "ax[1,1].plot([liminf,limsup],[liminf,limsup],'--',linewidth=0.5,color='black',zorder=0,alpha=0.75)\n",
    "\n",
    "\n",
    "f.tight_layout()\n",
    "\n",
    "f.savefig(\"plot_test_felds_bulk.png\",dpi=300,bbox_inches='tight')\n",
    "#f.savefig(\"plot_water.pdf\",bbox_inches='tight')\n",
    "\n",
    "plt.show()"
   ]
  },
  {
   "cell_type": "code",
   "execution_count": 79,
   "id": "9d032502",
   "metadata": {},
   "outputs": [
    {
     "name": "stdout",
     "output_type": "stream",
     "text": [
      "system: run-simulations/test-for-reviewer/one-water-layer/extracted-confs N frames: 101 N atoms: 301 RMSE energy: 1.9166950300594066 RMSE forces: 125.64798566149459\n",
      "All: RMSE energy: 1.9166950300594063 RMSE forces: 125.64798566149459\n"
     ]
    }
   ],
   "source": [
    "path=\"/scratch/gpfs/ppiaggi/Simulations/HeterogeneousNucleation/TrainModel/Feldspar/iteration-27/\"\n",
    "\n",
    "folders=np.array([\"run-simulations/test-for-reviewer/one-water-layer/extracted-confs\"])\n",
    "\n",
    "initialized=False\n",
    "\n",
    "for folder in folders:\n",
    "    system = dpdata.LabeledSystem(path + folder, fmt = 'deepmd/raw')\n",
    "    e, f, v = dp.eval(system['coords'], system['cells'], system['atom_types'])\n",
    "    energy_model = e.reshape([-1])\n",
    "    shift=np.mean(energy_model)\n",
    "    energy_model -= shift\n",
    "    force_model = f.reshape([-1])\n",
    "    energy_dft=np.genfromtxt(path + folder + \"/energy.raw\")\n",
    "    energy_dft -= shift\n",
    "    force_dft=np.genfromtxt(path + folder + \"/force.raw\").reshape([-1])\n",
    "    frames=system['coords'].shape[0]\n",
    "    number_of_molecules=system['atom_types'].shape[0]\n",
    "    if initialized:\n",
    "        energy_model_concat = np.concatenate((energy_model_concat,energy_model/number_of_molecules),axis=0)\n",
    "        energy_dft_concat = np.concatenate((energy_dft_concat,energy_dft/number_of_molecules),axis=0)\n",
    "        force_model_concat = np.concatenate((force_model_concat,force_model),axis=0)\n",
    "        force_dft_concat = np.concatenate((force_dft_concat,force_dft),axis=0)\n",
    "    else:\n",
    "        energy_model_concat = energy_model/number_of_molecules\n",
    "        energy_dft_concat = energy_dft/number_of_molecules\n",
    "        force_model_concat = np.copy(force_model)\n",
    "        force_dft_concat = np.copy(force_dft)\n",
    "        initialized=True\n",
    "    filename = \"energy-\" + folder.replace(\"/\",\"-\") + \".png\"\n",
    "    #plt.close()\n",
    "    rmserror_e=np.sqrt(np.mean(np.power(1000*(energy_model-energy_dft)/number_of_molecules,2)))\n",
    "    rmserror_f=np.sqrt(np.mean(np.power(1000*(force_model-force_dft),2)))\n",
    "    print(\"system:\",folder,\"N frames:\",frames,\"N atoms:\",number_of_molecules,\"RMSE energy:\",rmserror_e,\"RMSE forces:\",rmserror_f)\n",
    "\n",
    "rmserror_e=np.sqrt(np.mean(np.power(1000*(energy_model_concat-energy_dft_concat),2)))\n",
    "rmserror_f=np.sqrt(np.mean(np.power(1000*(force_model_concat-force_dft_concat),2)))\n",
    "print(\"All: RMSE energy:\",rmserror_e,\"RMSE forces:\",rmserror_f)\n"
   ]
  },
  {
   "cell_type": "code",
   "execution_count": 80,
   "id": "71f98fd5",
   "metadata": {},
   "outputs": [
    {
     "name": "stdout",
     "output_type": "stream",
     "text": [
      "Energy fit parameters:  [1.81906698 0.62461365] [0.0469996  0.03837621]\n",
      "Forces fit parameters:  [-0.00073904  0.0768168 ] [0.00164053 0.00164448]\n"
     ]
    },
    {
     "data": {
      "image/png": "[encoded data removed]",
      "text/plain": [
       "<Figure size 252x216 with 4 Axes>"
      ]
     },
     "metadata": {
      "needs_background": "light"
     },
     "output_type": "display_data"
    },
    {
     "data": {
      "text/plain": [
       "<Figure size 252x216 with 0 Axes>"
      ]
     },
     "metadata": {},
     "output_type": "display_data"
    }
   ],
   "source": [
    "plt.rcParams[\"figure.figsize\"] = (3.5,3)\n",
    "font = {'family' : 'serif',\n",
    "'serif'   : 'palatino',\n",
    "'style'   : 'normal',\n",
    "'variant'   : 'normal',\n",
    "'stretch'   : 'normal',\n",
    "'weight'   : 'normal',\n",
    "'size'   : 9}\n",
    "plt.rc('font', **font)\n",
    "\n",
    "f, ax = plt.subplots(2, 2)\n",
    "plt.tight_layout()\n",
    "\n",
    "ax[0,0].set_xlabel(r\"$E_\\mathrm{ML}-E_\\mathrm{DFT}$ (meV/atom)\",labelpad=1.25)\n",
    "ax[0,0].set_ylabel(\"Prob. density\",labelpad=1.25)\n",
    "ax[0,0].hist(1000*(energy_model_concat-energy_dft_concat),density=True, bins=50, range=(-4,4),alpha=0.5,color=colors[1])\n",
    "hist, bin_edges = np.histogram(1000*(energy_model_concat-energy_dft_concat), bins=50, range=(-4,4),density=True)\n",
    "halfbin = (bin_edges[1:]+bin_edges[:-1])/2.0\n",
    "popt, pcov = curve_fit(func, halfbin, hist, p0=(0,100))\n",
    "x=np.linspace(-4,4,100)\n",
    "ax[0,0].set_xlim([-4,4])\n",
    "ax[0,0].plot(x,func(x,*popt),'--',color=colors[1])\n",
    "print(\"Energy fit parameters: \", popt,np.sqrt(np.diag(pcov)))\n",
    "\n",
    "ax[0,1].set_xlabel(r\"$f_\\mathrm{ML}-f_\\mathrm{DFT}$ (eV/\\AA)\",labelpad=1.25)\n",
    "ax[0,1].set_ylabel(\"Prob. density\",labelpad=1.25)\n",
    "ax[0,1].hist(force_model_concat-force_dft_concat,density=True, bins=100, range=(-0.500,0.500),alpha=0.5,color=colors[1])\n",
    "hist, bin_edges = np.histogram(force_model_concat-force_dft_concat, bins=100, range=(-0.400,0.400),density=True)\n",
    "halfbin = (bin_edges[1:]+bin_edges[:-1])/2.0\n",
    "popt, pcov = curve_fit(func2, halfbin, hist, p0=(0,100))\n",
    "ax[0,1].set_xlim([-0.5,0.5])\n",
    "x=np.linspace(-0.500,0.500,100)\n",
    "ax[0,1].plot(x,func2(x,*popt),'--',color=colors[1])\n",
    "print(\"Forces fit parameters: \", popt,np.sqrt(np.diag(pcov)))\n",
    "\n",
    "mean=((np.amax(energy_dft_concat)-np.amin(energy_dft_concat))/2 + np.amin(energy_dft_concat))\n",
    "#print(1000*np.mean(energy_dft_concat))\n",
    "#print(1000*((np.amax(energy_dft_concat)-np.amin(energy_dft_concat))/2 + np.amin(energy_dft_concat)))\n",
    "ax[1,0].set_xlabel(r\"$E_\\mathrm{DFT}$ (meV/atom)\",labelpad=1.25)\n",
    "ax[1,0].set_ylabel(r\"$E_\\mathrm{ML}$ (meV/atom)\",labelpad=1.25)\n",
    "ax[1,0].scatter(1000*(energy_dft_concat-mean),1000*(energy_model_concat-mean),s=1,color=colors[1])\n",
    "limsup=10\n",
    "liminf=-10\n",
    "ax[1,0].set_xlim([liminf,limsup])\n",
    "ax[1,0].set_ylim([liminf,limsup])\n",
    "ax[1,0].plot([liminf,limsup],[liminf,limsup],'--',linewidth=0.5,color='black',zorder=0,alpha=0.75)\n",
    "\n",
    "fig = plt.figure()\n",
    "ax[1,1].set_xlabel(r\"$f_\\mathrm{DFT}$ (eV/\\AA)\",labelpad=1.25)\n",
    "ax[1,1].set_ylabel(r\"$f_\\mathrm{ML}$ (eV/\\AA)\",labelpad=1.25)\n",
    "ax[1,1].scatter(force_dft_concat,force_model_concat,s=0.5,color=colors[1])\n",
    "limsup=7\n",
    "liminf=-7\n",
    "ax[1,1].set_xlim([liminf,limsup])\n",
    "ax[1,1].set_ylim([liminf,limsup])\n",
    "ax[1,1].plot([liminf,limsup],[liminf,limsup],'--',linewidth=0.5,color='black',zorder=0,alpha=0.75)\n",
    "\n",
    "\n",
    "f.tight_layout()\n",
    "\n",
    "f.savefig(\"plot_test_felds_layer.png\",dpi=300,bbox_inches='tight')\n",
    "#f.savefig(\"plot_water.pdf\",bbox_inches='tight')\n",
    "\n",
    "plt.show()"
   ]
  },
  {
   "cell_type": "code",
   "execution_count": 76,
   "id": "d127e32e",
   "metadata": {},
   "outputs": [
    {
     "name": "stdout",
     "output_type": "stream",
     "text": [
      "system: run-simulations/test-for-reviewer/one-water-molecule/extracted-confs N frames: 101 N atoms: 259 RMSE energy: 1.5221752149815955 RMSE forces: 123.37607000733027\n",
      "All: RMSE energy: 1.5221752149815955 RMSE forces: 123.37607000733027\n"
     ]
    }
   ],
   "source": [
    "path=\"/scratch/gpfs/ppiaggi/Simulations/HeterogeneousNucleation/TrainModel/Feldspar/iteration-27/\"\n",
    "\n",
    "folders=np.array([\"run-simulations/test-for-reviewer/one-water-molecule/extracted-confs\"])\n",
    "\n",
    "initialized=False\n",
    "\n",
    "for folder in folders:\n",
    "    system = dpdata.LabeledSystem(path + folder, fmt = 'deepmd/raw')\n",
    "    e, f, v = dp.eval(system['coords'], system['cells'], system['atom_types'])\n",
    "    energy_model = e.reshape([-1])\n",
    "    shift=np.mean(energy_model)\n",
    "    energy_model -= shift\n",
    "    force_model = f.reshape([-1])\n",
    "    energy_dft=np.genfromtxt(path + folder + \"/energy.raw\")\n",
    "    energy_dft -= shift\n",
    "    force_dft=np.genfromtxt(path + folder + \"/force.raw\").reshape([-1])\n",
    "    frames=system['coords'].shape[0]\n",
    "    number_of_molecules=system['atom_types'].shape[0]\n",
    "    if initialized:\n",
    "        energy_model_concat = np.concatenate((energy_model_concat,energy_model/number_of_molecules),axis=0)\n",
    "        energy_dft_concat = np.concatenate((energy_dft_concat,energy_dft/number_of_molecules),axis=0)\n",
    "        force_model_concat = np.concatenate((force_model_concat,force_model),axis=0)\n",
    "        force_dft_concat = np.concatenate((force_dft_concat,force_dft),axis=0)\n",
    "    else:\n",
    "        energy_model_concat = energy_model/number_of_molecules\n",
    "        energy_dft_concat = energy_dft/number_of_molecules\n",
    "        force_model_concat = np.copy(force_model)\n",
    "        force_dft_concat = np.copy(force_dft)\n",
    "        initialized=True\n",
    "    filename = \"energy-\" + folder.replace(\"/\",\"-\") + \".png\"\n",
    "    #plt.close()\n",
    "    rmserror_e=np.sqrt(np.mean(np.power(1000*(energy_model-energy_dft)/number_of_molecules,2)))\n",
    "    rmserror_f=np.sqrt(np.mean(np.power(1000*(force_model-force_dft),2)))\n",
    "    print(\"system:\",folder,\"N frames:\",frames,\"N atoms:\",number_of_molecules,\"RMSE energy:\",rmserror_e,\"RMSE forces:\",rmserror_f)\n",
    "\n",
    "rmserror_e=np.sqrt(np.mean(np.power(1000*(energy_model_concat-energy_dft_concat),2)))\n",
    "rmserror_f=np.sqrt(np.mean(np.power(1000*(force_model_concat-force_dft_concat),2)))\n",
    "print(\"All: RMSE energy:\",rmserror_e,\"RMSE forces:\",rmserror_f)\n"
   ]
  },
  {
   "cell_type": "code",
   "execution_count": 78,
   "id": "68ed9c6f",
   "metadata": {},
   "outputs": [
    {
     "name": "stdout",
     "output_type": "stream",
     "text": [
      "Energy fit parameters:  [1.47066286 0.48409294] [0.0276715  0.02259369]\n",
      "Forces fit parameters:  [0.0011383  0.07418565] [0.00148701 0.00149028]\n"
     ]
    },
    {
     "data": {
      "image/png": "[encoded data removed]",
      "text/plain": [
       "<Figure size 252x216 with 4 Axes>"
      ]
     },
     "metadata": {
      "needs_background": "light"
     },
     "output_type": "display_data"
    },
    {
     "data": {
      "text/plain": [
       "<Figure size 252x216 with 0 Axes>"
      ]
     },
     "metadata": {},
     "output_type": "display_data"
    }
   ],
   "source": [
    "plt.rcParams[\"figure.figsize\"] = (3.5,3)\n",
    "font = {'family' : 'serif',\n",
    "'serif'   : 'palatino',\n",
    "'style'   : 'normal',\n",
    "'variant'   : 'normal',\n",
    "'stretch'   : 'normal',\n",
    "'weight'   : 'normal',\n",
    "'size'   : 9}\n",
    "plt.rc('font', **font)\n",
    "\n",
    "f, ax = plt.subplots(2, 2)\n",
    "plt.tight_layout()\n",
    "\n",
    "ax[0,0].set_xlabel(r\"$E_\\mathrm{ML}-E_\\mathrm{DFT}$ (meV/atom)\",labelpad=1.25)\n",
    "ax[0,0].set_ylabel(\"Prob. density\",labelpad=1.25)\n",
    "ax[0,0].hist(1000*(energy_model_concat-energy_dft_concat),density=True, bins=50, range=(-4,4),alpha=0.5,color=colors[2])\n",
    "hist, bin_edges = np.histogram(1000*(energy_model_concat-energy_dft_concat), bins=50, range=(-4,4),density=True)\n",
    "halfbin = (bin_edges[1:]+bin_edges[:-1])/2.0\n",
    "popt, pcov = curve_fit(func, halfbin, hist, p0=(0,100))\n",
    "x=np.linspace(-4,4,100)\n",
    "ax[0,0].set_xlim([-4,4])\n",
    "ax[0,0].plot(x,func(x,*popt),'--',color=colors[2])\n",
    "print(\"Energy fit parameters: \", popt,np.sqrt(np.diag(pcov)))\n",
    "\n",
    "ax[0,1].set_xlabel(r\"$f_\\mathrm{ML}-f_\\mathrm{DFT}$ (eV/\\AA)\",labelpad=1.25)\n",
    "ax[0,1].set_ylabel(\"Prob. density\",labelpad=1.25)\n",
    "ax[0,1].hist(force_model_concat-force_dft_concat,density=True, bins=100, range=(-0.500,0.500),alpha=0.5,color=colors[2])\n",
    "hist, bin_edges = np.histogram(force_model_concat-force_dft_concat, bins=100, range=(-0.400,0.400),density=True)\n",
    "halfbin = (bin_edges[1:]+bin_edges[:-1])/2.0\n",
    "popt, pcov = curve_fit(func2, halfbin, hist, p0=(0,100))\n",
    "ax[0,1].set_xlim([-0.5,0.5])\n",
    "x=np.linspace(-0.500,0.500,100)\n",
    "ax[0,1].plot(x,func2(x,*popt),'--',color=colors[2])\n",
    "print(\"Forces fit parameters: \", popt,np.sqrt(np.diag(pcov)))\n",
    "\n",
    "mean=((np.amax(energy_dft_concat)-np.amin(energy_dft_concat))/2 + np.amin(energy_dft_concat))\n",
    "#print(1000*np.mean(energy_dft_concat))\n",
    "#print(1000*((np.amax(energy_dft_concat)-np.amin(energy_dft_concat))/2 + np.amin(energy_dft_concat)))\n",
    "ax[1,0].set_xlabel(r\"$E_\\mathrm{DFT}$ (meV/atom)\",labelpad=1.25)\n",
    "ax[1,0].set_ylabel(r\"$E_\\mathrm{ML}$ (meV/atom)\",labelpad=1.25)\n",
    "ax[1,0].scatter(1000*(energy_dft_concat-mean),1000*(energy_model_concat-mean),s=1,color=colors[2])\n",
    "limsup=10\n",
    "liminf=-10\n",
    "ax[1,0].set_xlim([liminf,limsup])\n",
    "ax[1,0].set_ylim([liminf,limsup])\n",
    "ax[1,0].plot([liminf,limsup],[liminf,limsup],'--',linewidth=0.5,color='black',zorder=0,alpha=0.75)\n",
    "\n",
    "fig = plt.figure()\n",
    "ax[1,1].set_xlabel(r\"$f_\\mathrm{DFT}$ (eV/\\AA)\",labelpad=1.25)\n",
    "ax[1,1].set_ylabel(r\"$f_\\mathrm{ML}$ (eV/\\AA)\",labelpad=1.25)\n",
    "ax[1,1].scatter(force_dft_concat,force_model_concat,s=0.5,color=colors[2])\n",
    "limsup=7\n",
    "liminf=-7\n",
    "ax[1,1].set_xlim([liminf,limsup])\n",
    "ax[1,1].set_ylim([liminf,limsup])\n",
    "ax[1,1].plot([liminf,limsup],[liminf,limsup],'--',linewidth=0.5,color='black',zorder=0,alpha=0.75)\n",
    "\n",
    "\n",
    "f.tight_layout()\n",
    "\n",
    "f.savefig(\"plot_test_felds_molecule.png\",dpi=300,bbox_inches='tight')\n",
    "#f.savefig(\"plot_water.pdf\",bbox_inches='tight')\n",
    "\n",
    "plt.show()"
   ]
  },
  {
   "cell_type": "code",
   "execution_count": 14,
   "id": "aa981b83",
   "metadata": {},
   "outputs": [
    {
     "name": "stdout",
     "output_type": "stream",
     "text": [
      "system: data-iteration-26/feldspar/crystallization/001 N frames: 55 N atoms: 664 RMSE energy: 0.5623230615612269 RMSE forces: 113.45119842800175\n",
      "system: data-iteration-26/feldspar/crystallization/010 N frames: 142 N atoms: 900 RMSE energy: 0.40263663141591743 RMSE forces: 107.07801083609652\n",
      "system: data-iteration-26/feldspar/crystallization/100 N frames: 157 N atoms: 544 RMSE energy: 0.8365838575733983 RMSE forces: 106.4713636590511\n",
      "All: RMSE energy: 0.6515776082350071 RMSE forces: 107.82823999221431\n"
     ]
    }
   ],
   "source": [
    "path=\"/scratch/gpfs/ppiaggi/Simulations/HeterogeneousNucleation/TrainModel/Feldspar/iteration-28/\"\n",
    "\n",
    "folders=np.array([\"data-iteration-26/feldspar/crystallization/001\",\n",
    "                \"data-iteration-26/feldspar/crystallization/010\",\n",
    "                \"data-iteration-26/feldspar/crystallization/100\"])\n",
    "\n",
    "initialized=False\n",
    "\n",
    "for folder in folders:\n",
    "    system = dpdata.LabeledSystem(path + folder, fmt = 'deepmd/raw')\n",
    "    e, f, v = dp.eval(system['coords'], system['cells'], system['atom_types'])\n",
    "    energy_model = e.reshape([-1])\n",
    "    force_model = f.reshape([-1])\n",
    "    energy_dft=np.genfromtxt(path + folder + \"/energy.raw\")\n",
    "    force_dft=np.genfromtxt(path + folder + \"/force.raw\").reshape([-1])\n",
    "    frames=system['coords'].shape[0]\n",
    "    number_of_molecules=system['atom_types'].shape[0]\n",
    "    if initialized:\n",
    "        energy_model_concat = np.concatenate((energy_model_concat,energy_model/number_of_molecules),axis=0)\n",
    "        energy_dft_concat = np.concatenate((energy_dft_concat,energy_dft/number_of_molecules),axis=0)\n",
    "        force_model_concat = np.concatenate((force_model_concat,force_model),axis=0)\n",
    "        force_dft_concat = np.concatenate((force_dft_concat,force_dft),axis=0)\n",
    "    else:\n",
    "        energy_model_concat = energy_model/number_of_molecules\n",
    "        energy_dft_concat = energy_dft/number_of_molecules\n",
    "        force_model_concat = np.copy(force_model)\n",
    "        force_dft_concat = np.copy(force_dft)\n",
    "        initialized=True\n",
    "    filename = \"energy-\" + folder.replace(\"/\",\"-\") + \".png\"\n",
    "    #plt.close()\n",
    "    rmserror_e=np.sqrt(np.mean(np.power(1000*(energy_model-energy_dft)/number_of_molecules,2)))\n",
    "    rmserror_f=np.sqrt(np.mean(np.power(1000*(force_model-force_dft),2)))\n",
    "    print(\"system:\",folder,\"N frames:\",frames,\"N atoms:\",number_of_molecules,\"RMSE energy:\",rmserror_e,\"RMSE forces:\",rmserror_f)\n",
    "\n",
    "rmserror_e=np.sqrt(np.mean(np.power(1000*(energy_model_concat-energy_dft_concat),2)))\n",
    "rmserror_f=np.sqrt(np.mean(np.power(1000*(force_model_concat-force_dft_concat),2)))\n",
    "print(\"All: RMSE energy:\",rmserror_e,\"RMSE forces:\",rmserror_f)\n"
   ]
  },
  {
   "cell_type": "code",
   "execution_count": 15,
   "id": "be3294cd",
   "metadata": {},
   "outputs": [
    {
     "name": "stdout",
     "output_type": "stream",
     "text": [
      "Energy fit parameters:  [0.12271763 0.52262152] [0.0143357  0.01170505]\n",
      "Forces fit parameters:  [-0.00170679  0.06065768] [0.00111721 0.00111865]\n"
     ]
    },
    {
     "data": {
      "image/png": "[encoded data removed]",
      "text/plain": [
       "<Figure size 252x216 with 4 Axes>"
      ]
     },
     "metadata": {
      "needs_background": "light"
     },
     "output_type": "display_data"
    },
    {
     "data": {
      "text/plain": [
       "<Figure size 252x216 with 0 Axes>"
      ]
     },
     "metadata": {},
     "output_type": "display_data"
    }
   ],
   "source": [
    "plt.rcParams[\"figure.figsize\"] = (3.5,3)\n",
    "font = {'family' : 'serif',\n",
    "'serif'   : 'palatino',\n",
    "'style'   : 'normal',\n",
    "'variant'   : 'normal',\n",
    "'stretch'   : 'normal',\n",
    "'weight'   : 'normal',\n",
    "'size'   : 9}\n",
    "plt.rc('font', **font)\n",
    "\n",
    "f, ax = plt.subplots(2, 2)\n",
    "plt.tight_layout()\n",
    "\n",
    "ax[0,0].set_xlabel(r\"$E_\\mathrm{ML}-E_\\mathrm{DFT}$ (meV/atom)\",labelpad=1.25)\n",
    "ax[0,0].set_ylabel(\"Prob. density\",labelpad=1.25)\n",
    "ax[0,0].hist(1000*(energy_model_concat-energy_dft_concat),density=True, bins=50, range=(-4,4),alpha=0.5,color=colors[2])\n",
    "hist, bin_edges = np.histogram(1000*(energy_model_concat-energy_dft_concat), bins=50, range=(-4,4),density=True)\n",
    "halfbin = (bin_edges[1:]+bin_edges[:-1])/2.0\n",
    "popt, pcov = curve_fit(func, halfbin, hist, p0=(0,100))\n",
    "x=np.linspace(-4,4,100)\n",
    "ax[0,0].set_xlim([-4,4])\n",
    "ax[0,0].plot(x,func(x,*popt),'--',color=colors[2])\n",
    "print(\"Energy fit parameters: \", popt,np.sqrt(np.diag(pcov)))\n",
    "\n",
    "ax[0,1].set_xlabel(r\"$f_\\mathrm{ML}-f_\\mathrm{DFT}$ (eV/\\AA)\",labelpad=1.25)\n",
    "ax[0,1].set_ylabel(\"Prob. density\",labelpad=1.25)\n",
    "ax[0,1].hist(force_model_concat-force_dft_concat,density=True, bins=100, range=(-0.500,0.500),alpha=0.5,color=colors[2])\n",
    "hist, bin_edges = np.histogram(force_model_concat-force_dft_concat, bins=100, range=(-0.400,0.400),density=True)\n",
    "halfbin = (bin_edges[1:]+bin_edges[:-1])/2.0\n",
    "popt, pcov = curve_fit(func2, halfbin, hist, p0=(0,100))\n",
    "ax[0,1].set_xlim([-0.5,0.5])\n",
    "x=np.linspace(-0.500,0.500,100)\n",
    "ax[0,1].plot(x,func2(x,*popt),'--',color=colors[2])\n",
    "print(\"Forces fit parameters: \", popt,np.sqrt(np.diag(pcov)))\n",
    "\n",
    "mean=((np.amax(energy_dft_concat)-np.amin(energy_dft_concat))/2 + np.amin(energy_dft_concat))\n",
    "#print(1000*np.mean(energy_dft_concat))\n",
    "#print(1000*((np.amax(energy_dft_concat)-np.amin(energy_dft_concat))/2 + np.amin(energy_dft_concat)))\n",
    "ax[1,0].set_xlabel(r\"$E_\\mathrm{DFT}$ (eV/atom)\",labelpad=1.25)\n",
    "ax[1,0].set_ylabel(r\"$E_\\mathrm{ML}$ (eV/atom)\",labelpad=1.25)\n",
    "ax[1,0].scatter(energy_dft_concat-mean,energy_model_concat-mean,s=1,color=colors[2])\n",
    "limsup=20\n",
    "liminf=-20\n",
    "ax[1,0].set_xlim([liminf,limsup])\n",
    "ax[1,0].set_ylim([liminf,limsup])\n",
    "ax[1,0].plot([liminf,limsup],[liminf,limsup],'--',linewidth=0.5,color='black',zorder=0,alpha=0.75)\n",
    "\n",
    "fig = plt.figure()\n",
    "ax[1,1].set_xlabel(r\"$f_\\mathrm{DFT}$ (eV/\\AA)\",labelpad=1.25)\n",
    "ax[1,1].set_ylabel(r\"$f_\\mathrm{ML}$ (eV/\\AA)\",labelpad=1.25)\n",
    "ax[1,1].scatter(force_dft_concat,force_model_concat,s=0.1,color=colors[2])\n",
    "limsup=10\n",
    "liminf=-10\n",
    "ax[1,1].set_xlim([liminf,limsup])\n",
    "ax[1,1].set_ylim([liminf,limsup])\n",
    "ax[1,1].plot([liminf,limsup],[liminf,limsup],'--',linewidth=0.5,color='black',zorder=0,alpha=0.75)\n",
    "\n",
    "\n",
    "f.tight_layout()\n",
    "\n",
    "#f.savefig(\"plot_all.png\",dpi=300,bbox_inches='tight')\n",
    "#f.savefig(\"plot_water.pdf\",bbox_inches='tight')\n",
    "\n",
    "plt.show()"
   ]
  },
  {
   "cell_type": "code",
   "execution_count": null,
   "id": "3c4c7a41",
   "metadata": {},
   "outputs": [],
   "source": []
  }
 ],
 "metadata": {
  "kernelspec": {
   "display_name": "Python 3 (ipykernel)",
   "language": "python",
   "name": "python3"
  },
  "language_info": {
   "codemirror_mode": {
    "name": "ipython",
    "version": 3
   },
   "file_extension": ".py",
   "mimetype": "text/x-python",
   "name": "python",
   "nbconvert_exporter": "python",
   "pygments_lexer": "ipython3",
   "version": "3.10.4"
  }
 },
 "nbformat": 4,
 "nbformat_minor": 5
}
